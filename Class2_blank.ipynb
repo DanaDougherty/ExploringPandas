{
 "cells": [
  {
   "cell_type": "markdown",
   "metadata": {},
   "source": [
    "# Class 2\n",
    "Using Jupyter and Pandas"
   ]
  },
  {
   "cell_type": "code",
   "execution_count": null,
   "metadata": {
    "collapsed": true
   },
   "outputs": [],
   "source": [
    "# Import pandas module\n",
    "\n",
    "'''YOUR CODE HERE'''"
   ]
  },
  {
   "cell_type": "markdown",
   "metadata": {},
   "source": [
    "## 1. Importing Data\n",
    "\n",
    "To use pandas, we need data - we can make our own data, or we can import it. \n",
    "\n",
    "### 1.1 Making data with a dict\n",
    "Here's an example of making data from a dictionary and turning it into a pandas DataFrame"
   ]
  },
  {
   "cell_type": "code",
   "execution_count": null,
   "metadata": {
    "collapsed": true
   },
   "outputs": [],
   "source": [
    "# Make PFE data using a dictionary.\n",
    "# The key is a string which will be the column headers in our data frame.\n",
    "# The value is a list of strings which will give us our rows in the data frame\n",
    "'''YOUR CODE HERE'''"
   ]
  },
  {
   "cell_type": "code",
   "execution_count": null,
   "metadata": {
    "collapsed": true
   },
   "outputs": [],
   "source": [
    "# Make a dataframe object\n",
    "# Recall that dicts are not stored in any particular order.  By using the columns parameter, we can\n",
    "#    spe the order in which to show the dataframe columns\n",
    "'''YOUR CODE HERE'''"
   ]
  },
  {
   "cell_type": "code",
   "execution_count": null,
   "metadata": {
    "collapsed": true
   },
   "outputs": [],
   "source": [
    "# Look at the dataframe\n",
    "'''YOUR CODE HERE'''"
   ]
  },
  {
   "cell_type": "markdown",
   "metadata": {},
   "source": [
    "### 1.2 Making data with a list of dicts\n",
    "Here's an example of making data from a list of dictionaries and turning it into a pandas DataFrame"
   ]
  },
  {
   "cell_type": "code",
   "execution_count": null,
   "metadata": {
    "collapsed": true
   },
   "outputs": [],
   "source": [
    "# Make PFE data using a list dictionary.\n",
    "# Every dictionary will have the same keys, which are the column headers in our data frame.\n",
    "# The value is a single row's entry in the data frame\n",
    "'''YOUR CODE HERE'''"
   ]
  },
  {
   "cell_type": "code",
   "execution_count": null,
   "metadata": {
    "collapsed": true
   },
   "outputs": [],
   "source": [
    "# Make a dataframe object\n",
    "# Recall that dicts are not stored in any particular order.  By using the columns parameter, we can\n",
    "#    specify the order in which to show the dataframe columns\n",
    "'''YOUR CODE HERE'''"
   ]
  },
  {
   "cell_type": "code",
   "execution_count": null,
   "metadata": {
    "collapsed": true
   },
   "outputs": [],
   "source": [
    "# Look at the dataframe\n",
    "'''YOUR CODE HERE'''"
   ]
  },
  {
   "cell_type": "markdown",
   "metadata": {},
   "source": [
    "### 1.3 Importing data from a csv file\n",
    "You'll need to specify the path of where the csv file is, or make sure it's in the same folder that this file is in."
   ]
  },
  {
   "cell_type": "code",
   "execution_count": null,
   "metadata": {
    "collapsed": true
   },
   "outputs": [],
   "source": [
    "# We will import a csv file that contains all NYC 311 Service Requests from 2010 to present\n",
    "# (This data has been subset to only include Agency = NYPD)\n",
    "'''YOUR CODE HERE'''\n",
    "\n",
    "# Note that because this is a much larger dataset than what we created, the \"preview\" of df\n",
    "#      is only the first 30 rows and the last 30 rows\n",
    "'''YOUR CODE HERE'''"
   ]
  },
  {
   "cell_type": "code",
   "execution_count": null,
   "metadata": {
    "collapsed": true
   },
   "outputs": [],
   "source": [
    "# To read about this method (or other methods/functions) and its parameters\n",
    "#      type ? and then the method name\n",
    "'''YOUR CODE HERE'''"
   ]
  },
  {
   "cell_type": "markdown",
   "metadata": {},
   "source": [
    "## 2. Inspecting the data\n",
    "\n",
    "You can see this is a large dataset.  Instead we may choose to look at the first few rows or last few rows using the head() and tail() methods"
   ]
  },
  {
   "cell_type": "markdown",
   "metadata": {},
   "source": [
    "### 2.1 Looking at the first / last few rows"
   ]
  },
  {
   "cell_type": "code",
   "execution_count": null,
   "metadata": {
    "collapsed": true
   },
   "outputs": [],
   "source": [
    "# To look at the first few rows\n",
    "'''YOUR CODE HERE'''"
   ]
  },
  {
   "cell_type": "code",
   "execution_count": null,
   "metadata": {
    "collapsed": true
   },
   "outputs": [],
   "source": [
    "# To look at the last few rows\n",
    "'''YOUR CODE HERE'''"
   ]
  },
  {
   "cell_type": "markdown",
   "metadata": {},
   "source": [
    "### 2.2 Summary of the data\n",
    "\n",
    "We can also see a summary of the data by using info() method"
   ]
  },
  {
   "cell_type": "code",
   "execution_count": null,
   "metadata": {
    "collapsed": true
   },
   "outputs": [],
   "source": [
    "# If we want a summary of df\n",
    "'''YOUR CODE HERE'''"
   ]
  },
  {
   "cell_type": "markdown",
   "metadata": {},
   "source": [
    "## 3. Selecting rows / columns\n",
    "\n",
    "To select row(s) or column(s) we can use the index operator [ ]"
   ]
  },
  {
   "cell_type": "code",
   "execution_count": null,
   "metadata": {
    "collapsed": true
   },
   "outputs": [],
   "source": [
    "# Selecting rows 7-8\n",
    "'''YOUR CODE HERE'''"
   ]
  },
  {
   "cell_type": "code",
   "execution_count": null,
   "metadata": {
    "collapsed": true
   },
   "outputs": [],
   "source": [
    "# Select a column by name\n",
    "'''YOUR CODE HERE'''"
   ]
  },
  {
   "cell_type": "code",
   "execution_count": null,
   "metadata": {
    "collapsed": true
   },
   "outputs": [],
   "source": [
    "# Selecting a column by name, and only showing the first 5 rows\n",
    "'''YOUR CODE HERE'''\n",
    "# df[:5]['Complaint Type'] results are the same"
   ]
  },
  {
   "cell_type": "code",
   "execution_count": null,
   "metadata": {
    "collapsed": true
   },
   "outputs": [],
   "source": [
    "# Selecting several columns by name gives a new pandas dataframe\n",
    "'''YOUR CODE HERE'''"
   ]
  },
  {
   "cell_type": "markdown",
   "metadata": {},
   "source": [
    "## 4. Column Operations"
   ]
  },
  {
   "cell_type": "markdown",
   "metadata": {},
   "source": [
    "### 4.1 Sorting columns\n",
    "\n",
    "We may be interested in sorting the dataframe based off a particular column.  We can do this in ascending or descending order."
   ]
  },
  {
   "cell_type": "code",
   "execution_count": null,
   "metadata": {
    "collapsed": true
   },
   "outputs": [],
   "source": [
    "'''YOUR CODE HERE'''"
   ]
  },
  {
   "cell_type": "markdown",
   "metadata": {},
   "source": [
    "### 4.2 Creating a new column\n",
    "\n",
    "We also may want to add a column to our dataframe.  Possibly from a combination of our other columns or maybe all \"hard coded\" with some number or string."
   ]
  },
  {
   "cell_type": "code",
   "execution_count": null,
   "metadata": {
    "collapsed": true
   },
   "outputs": [],
   "source": [
    "'''YOUR CODE HERE'''"
   ]
  },
  {
   "cell_type": "markdown",
   "metadata": {},
   "source": [
    "### 4.3 Unique values in a column\n",
    "\n",
    "To get an array of all unique values in a particular column, use the .unique() method"
   ]
  },
  {
   "cell_type": "code",
   "execution_count": null,
   "metadata": {
    "collapsed": true
   },
   "outputs": [],
   "source": [
    "'''YOUR CODE HERE'''"
   ]
  },
  {
   "cell_type": "markdown",
   "metadata": {},
   "source": [
    "### 4.4 Column Statistics\n",
    "\n",
    "You can isolate a column and find the max, min, sum of a column.  For example, we may be interested in finding the zipcode shows up the most in this dataset...i.e. we are looking for the mode."
   ]
  },
  {
   "cell_type": "code",
   "execution_count": null,
   "metadata": {
    "collapsed": true
   },
   "outputs": [],
   "source": [
    "'''YOUR CODE HERE'''"
   ]
  },
  {
   "cell_type": "markdown",
   "metadata": {},
   "source": [
    "## 5.  Counting values\n",
    "\n",
    "### 5.1 Counting values in a given column\n",
    "\n",
    "If we are curious how many times each value appears in the dataset, we can use the value_counts() method"
   ]
  },
  {
   "cell_type": "code",
   "execution_count": null,
   "metadata": {
    "collapsed": true
   },
   "outputs": [],
   "source": [
    "# This gets the top 10 complaint types\n",
    "'''YOUR CODE HERE'''"
   ]
  },
  {
   "cell_type": "markdown",
   "metadata": {},
   "source": [
    "### 5.2 Making a bar graph"
   ]
  },
  {
   "cell_type": "code",
   "execution_count": null,
   "metadata": {
    "collapsed": true
   },
   "outputs": [],
   "source": [
    "'''YOUR CODE HERE'''"
   ]
  },
  {
   "cell_type": "markdown",
   "metadata": {},
   "source": [
    "## 6. Isolating columns with a certain value"
   ]
  },
  {
   "cell_type": "code",
   "execution_count": null,
   "metadata": {
    "collapsed": true
   },
   "outputs": [],
   "source": [
    "# Find all columns whose complaints are noise-residential\n",
    "'''YOUR CODE HERE'''"
   ]
  },
  {
   "cell_type": "code",
   "execution_count": null,
   "metadata": {
    "collapsed": true
   },
   "outputs": [],
   "source": [
    "# We can subset based on more than one column\n",
    "# For example, if we want a data frame with all the noise-residential complaints in zip 10027\n",
    "'''YOUR CODE HERE'''"
   ]
  },
  {
   "cell_type": "markdown",
   "metadata": {},
   "source": [
    "## 7. Bar Chart"
   ]
  },
  {
   "cell_type": "code",
   "execution_count": null,
   "metadata": {
    "collapsed": true
   },
   "outputs": [],
   "source": [
    "# To see which Borough has the most 311 calls\n",
    "'''YOUR CODE HERE'''"
   ]
  },
  {
   "cell_type": "code",
   "execution_count": null,
   "metadata": {
    "collapsed": true
   },
   "outputs": [],
   "source": [
    "'''YOUR CODE HERE'''"
   ]
  }
 ],
 "metadata": {
  "anaconda-cloud": {},
  "kernelspec": {
   "display_name": "Python [Root]",
   "language": "python",
   "name": "Python [Root]"
  },
  "language_info": {
   "codemirror_mode": {
    "name": "ipython",
    "version": 3
   },
   "file_extension": ".py",
   "mimetype": "text/x-python",
   "name": "python",
   "nbconvert_exporter": "python",
   "pygments_lexer": "ipython3",
   "version": "3.5.2"
  }
 },
 "nbformat": 4,
 "nbformat_minor": 2
}
