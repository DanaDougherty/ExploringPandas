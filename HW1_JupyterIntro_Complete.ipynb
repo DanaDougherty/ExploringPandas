{
 "cells": [
  {
   "cell_type": "markdown",
   "metadata": {},
   "source": [
    "# Information Systems\n",
    "## Class 1: Jupyter NB and Python Review\n",
    "### Name: First Last"
   ]
  },
  {
   "cell_type": "markdown",
   "metadata": {},
   "source": [
    "1) Concatenation and Loops  \n",
    "-  Make a variable `year` that stores the string \"Class of \"  \n",
    "-  Use a `for` loop and string concatenation that prints out the 4 class years currently enrolled at CGA.  \n",
    "   `Class of 2018\n",
    "   Class of 2019\n",
    "   Class of 2020\n",
    "   Class of 2021`"
   ]
  },
  {
   "cell_type": "code",
   "execution_count": 8,
   "metadata": {
    "collapsed": false
   },
   "outputs": [
    {
     "name": "stdout",
     "output_type": "stream",
     "text": [
      "Class of 2018\n",
      "Class of 2019\n",
      "Class of 2020\n",
      "Class of 2021\n",
      "Class of 2022\n"
     ]
    }
   ],
   "source": [
    "year = \"Class of \"\n",
    "for i in range(2018, 2023):\n",
    "    print(year + str(i))"
   ]
  },
  {
   "cell_type": "markdown",
   "metadata": {},
   "source": [
    "2) Cleaning up strings  \n",
    "There are two lists defined below (words and dates), each needs to be \"cleaned up\":  \n",
    "- remove `\\n` or `\\t` from the  strings in `words`, then print out the \"cleaned\" string:  \n",
    "   `hello\n",
    "  world\n",
    "  info\n",
    "  systems`\n",
    "- print out just the day from the date string in `dates` (hint: use the `split` function):  \n",
    "   `19\n",
    "  2\n",
    "  17\n",
    "  28`"
   ]
  },
  {
   "cell_type": "code",
   "execution_count": 15,
   "metadata": {
    "collapsed": false
   },
   "outputs": [
    {
     "name": "stdout",
     "output_type": "stream",
     "text": [
      "hello\n",
      "world\n",
      "info\n",
      "systems\n"
     ]
    }
   ],
   "source": [
    "# Remove the \\n and \\t\n",
    "words = [\"hello\\n\", 'world\\n', 'info\\t', 'systems\\t']\n",
    "for i in words:\n",
    "    print(i.strip())"
   ]
  },
  {
   "cell_type": "code",
   "execution_count": 17,
   "metadata": {
    "collapsed": false
   },
   "outputs": [
    {
     "name": "stdout",
     "output_type": "stream",
     "text": [
      "19\n",
      "2\n",
      "17\n",
      "28\n"
     ]
    }
   ],
   "source": [
    "# Extract the day\n",
    "dates = [\"1/19/2019\", '4/2/1974', '10/17/2000', '2/28/2016']\n",
    "for i in dates:\n",
    "    dates = i.split('/')\n",
    "    print(dates[1])"
   ]
  },
  {
   "cell_type": "markdown",
   "metadata": {},
   "source": [
    "3)  Below `exList` is defined for you.  Complete the following tasks:  \n",
    "- Print out the first 5 letters: w, e, l, c, o\n",
    "- Print out the last 5 letters:  e, b, a, c, k\n",
    "- Print out the 3rd to the 7th letters:  l, c, o, m, e\n"
   ]
  },
  {
   "cell_type": "code",
   "execution_count": 21,
   "metadata": {
    "collapsed": false
   },
   "outputs": [
    {
     "data": {
      "text/plain": [
       "['w', 'e', 'l', 'c', 'o', 'm', 'e', 'b', 'a', 'c', 'k']"
      ]
     },
     "execution_count": 21,
     "metadata": {},
     "output_type": "execute_result"
    }
   ],
   "source": [
    "# Define exList and display\n",
    "exList = list('welcomeback')\n",
    "exList"
   ]
  },
  {
   "cell_type": "code",
   "execution_count": null,
   "metadata": {
    "collapsed": true
   },
   "outputs": [],
   "source": []
  }
 ],
 "metadata": {
  "anaconda-cloud": {},
  "kernelspec": {
   "display_name": "Python [Root]",
   "language": "python",
   "name": "Python [Root]"
  },
  "language_info": {
   "codemirror_mode": {
    "name": "ipython",
    "version": 3
   },
   "file_extension": ".py",
   "mimetype": "text/x-python",
   "name": "python",
   "nbconvert_exporter": "python",
   "pygments_lexer": "ipython3",
   "version": "3.5.2"
  }
 },
 "nbformat": 4,
 "nbformat_minor": 0
}
