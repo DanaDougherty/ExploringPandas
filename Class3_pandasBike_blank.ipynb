{
 "cells": [
  {
   "cell_type": "markdown",
   "metadata": {},
   "source": [
    "# IS - Class 3\n",
    "\n",
    "Using Pandas (cont'd)\n",
    "\n",
    "Today we'll work with bike path data from Montreal.  The data contains how many cyclists used 9 bike paths on a given date.  We'll be following the tutorial from the following closely, which you can reference later:\n",
    "\n",
    "http://nbviewer.jupyter.org/github/jvns/pandas-cookbook/blob/v0.1/cookbook/Chapter%201%20-%20Reading%20from%20a%20CSV.ipynb\n",
    "\n",
    "Our goal is to analyze usage of the bike paths by weekday."
   ]
  },
  {
   "cell_type": "markdown",
   "metadata": {},
   "source": [
    "## 0. Warm up - Loading and Inspecting the Data\n",
    "\n",
    "Load the bike.csv data (posted on D2L)"
   ]
  },
  {
   "cell_type": "code",
   "execution_count": null,
   "metadata": {
    "collapsed": true
   },
   "outputs": [],
   "source": [
    "# Import pandas module\n",
    "import pandas as pd\n",
    "\n",
    "%matplotlib inline"
   ]
  },
  {
   "cell_type": "code",
   "execution_count": null,
   "metadata": {
    "collapsed": true
   },
   "outputs": [],
   "source": [
    "# Load the data from csv, look at the head of the data\n",
    "'''YOUR CODE HERE'''"
   ]
  },
  {
   "cell_type": "markdown",
   "metadata": {},
   "source": [
    "The bike paths are in French, which will make it very difficult to call on the columns.  There are several ways to deal with this, but we'll choose to rename them.\n",
    "\n",
    "Remember that we want to analyze the bike path usage by day of the week, so that date column is important.  We can use the datatype, datetime, to help us figure out what day of the week each row is.  Currently the datatype in the Date column is a string...and you may notice that the format it's in is D/M/Y.\n",
    "\n",
    "We're going to reload the data, adjusting for these things."
   ]
  },
  {
   "cell_type": "code",
   "execution_count": null,
   "metadata": {
    "collapsed": true
   },
   "outputs": [],
   "source": [
    "# Recall:  to read about this method (or other methods/functions) and its parameters\n",
    "#      type ? and then the method name\n",
    "'''YOUR CODE HERE'''"
   ]
  },
  {
   "cell_type": "code",
   "execution_count": null,
   "metadata": {
    "collapsed": true
   },
   "outputs": [],
   "source": [
    "# Import the csv file\n",
    "#     header = 0 to get rid of the header title row\n",
    "#     names = [etc,...] to rename the headers\n",
    "#     parse_dates = ['Date'] to make this column hold timestamps\n",
    "#     dayfirst = True to indicate that the date is originally entered as D/MM/YYYY\n",
    "'''YOUR CODE HERE'''\n",
    "# Look at the first few rows\n",
    "'''YOUR CODE HERE'''"
   ]
  },
  {
   "cell_type": "code",
   "execution_count": null,
   "metadata": {
    "collapsed": true
   },
   "outputs": [],
   "source": [
    "# Check the date column to see what data type is in it\n",
    "'''YOUR CODE HERE'''"
   ]
  },
  {
   "cell_type": "markdown",
   "metadata": {},
   "source": [
    "Notice that our Date column is a datetime type now.\n",
    "\n",
    "Also, you may have noticed that our \"index column\" is 0-365.  We may choose instead to have our date be the index for this dataframe.  This will make for a nicer when we plot the data."
   ]
  },
  {
   "cell_type": "code",
   "execution_count": null,
   "metadata": {
    "collapsed": true
   },
   "outputs": [],
   "source": [
    "'''YOUR CODE HERE'''"
   ]
  },
  {
   "cell_type": "code",
   "execution_count": null,
   "metadata": {
    "collapsed": true
   },
   "outputs": [],
   "source": [
    "# Looks like that Time column is useless...let's delete it.\n",
    "'''YOUR CODE HERE'''\n",
    "# Note:  that second parameter is axis...0 for index, 1 for column."
   ]
  },
  {
   "cell_type": "code",
   "execution_count": null,
   "metadata": {
    "collapsed": true
   },
   "outputs": [],
   "source": [
    "'''YOUR CODE HERE'''"
   ]
  },
  {
   "cell_type": "code",
   "execution_count": null,
   "metadata": {
    "collapsed": true
   },
   "outputs": [],
   "source": [
    "# Find the date where path D was used the most\n",
    "\n",
    "# first find the max of the D column\n",
    "'''YOUR CODE HERE'''\n",
    "\n",
    "# the subset the dataframe based on this max number\n",
    "'''YOUR CODE HERE'''"
   ]
  },
  {
   "cell_type": "markdown",
   "metadata": {},
   "source": [
    "Therefore, the date this path was used the most was 06/15/2012"
   ]
  },
  {
   "cell_type": "markdown",
   "metadata": {},
   "source": [
    "## 1. Add a weekday column\n",
    "\n",
    "Last time we introduced how to add a column.  Suppose we wanted to add a weekday column to this dataset.  Since we have a timestamp datatype for the first column, we can extract lots of information from it"
   ]
  },
  {
   "cell_type": "code",
   "execution_count": null,
   "metadata": {
    "collapsed": true
   },
   "outputs": [],
   "source": [
    "# Use the tab key to see all the information you can use from this:\n",
    "'''YOUR CODE HERE'''"
   ]
  },
  {
   "cell_type": "code",
   "execution_count": null,
   "metadata": {
    "collapsed": true
   },
   "outputs": [],
   "source": [
    "# To get the month\n",
    "'''YOUR CODE HERE'''"
   ]
  },
  {
   "cell_type": "code",
   "execution_count": null,
   "metadata": {
    "collapsed": true
   },
   "outputs": [],
   "source": [
    "# To get the day\n",
    "'''YOUR CODE HERE'''"
   ]
  },
  {
   "cell_type": "code",
   "execution_count": null,
   "metadata": {
    "collapsed": true
   },
   "outputs": [],
   "source": [
    "# To get the weekday\n",
    "'''YOUR CODE HERE'''"
   ]
  },
  {
   "cell_type": "markdown",
   "metadata": {
    "collapsed": false
   },
   "source": [
    "df['Day'] = df.index.weekday\n",
    "df.head()"
   ]
  },
  {
   "cell_type": "markdown",
   "metadata": {},
   "source": [
    "## 2. Apply Method\n",
    "\n",
    "Suppose we wanted to translate these number days into the corresponding string.  We can apply a single function to an entire column."
   ]
  },
  {
   "cell_type": "code",
   "execution_count": null,
   "metadata": {
    "collapsed": true
   },
   "outputs": [],
   "source": [
    "# Make a function\n",
    "'''YOUR CODE HERE'''\n",
    "\n",
    "# Apply that function to every row in the dataframe\n",
    "'''YOUR CODE HERE'''"
   ]
  },
  {
   "cell_type": "markdown",
   "metadata": {},
   "source": [
    "## 3. Groupby Method\n",
    "\n",
    "Let's create groups from the weekday column.  That is, let's group all the rows that are Sundays together, and so forth.  To do this, we can use the `groupby` method."
   ]
  },
  {
   "cell_type": "code",
   "execution_count": null,
   "metadata": {
    "collapsed": true
   },
   "outputs": [],
   "source": [
    "'''YOUR CODE HERE'''"
   ]
  },
  {
   "cell_type": "markdown",
   "metadata": {},
   "source": [
    "So that created some `DataFrameGroupBy` object.  That object has a `groups` method that will return a dictionary whose keys are the weekday and the value is a list of the indicies that are associated with that weekday."
   ]
  },
  {
   "cell_type": "code",
   "execution_count": null,
   "metadata": {
    "collapsed": true
   },
   "outputs": [],
   "source": [
    "'''YOUR CODE HERE'''"
   ]
  },
  {
   "cell_type": "code",
   "execution_count": null,
   "metadata": {
    "collapsed": true
   },
   "outputs": [],
   "source": [
    "# How many rows are in each group\n",
    "'''YOUR CODE HERE'''\n",
    "# This make sense because if you sum this up you get 366 rows (days)...since 2012 was a leap year, this seems correct"
   ]
  },
  {
   "cell_type": "markdown",
   "metadata": {},
   "source": [
    "## 4. Aggregate Method\n",
    "\n",
    "Now that we've grouped the data by weekday, let's see how many times each bike path was used, by the day of the week.  To do this we should use the aggregate method `aggregate` method (same as `agg` method)."
   ]
  },
  {
   "cell_type": "code",
   "execution_count": null,
   "metadata": {
    "collapsed": true
   },
   "outputs": [],
   "source": [
    "# Total bike usage for each bike path, by day of the week\n",
    "'''YOUR CODE HERE'''"
   ]
  },
  {
   "cell_type": "code",
   "execution_count": null,
   "metadata": {
    "collapsed": true
   },
   "outputs": [],
   "source": [
    "# But I really don't like that the weekday is out of order because the graph will be harder to interpret\n",
    "'''YOUR CODE HERE'''"
   ]
  },
  {
   "cell_type": "code",
   "execution_count": null,
   "metadata": {
    "collapsed": true
   },
   "outputs": [],
   "source": [
    "# And we don't want that day column\n",
    "'''YOUR CODE HERE'''"
   ]
  },
  {
   "cell_type": "code",
   "execution_count": null,
   "metadata": {
    "collapsed": true
   },
   "outputs": [],
   "source": [
    "# Plot the total bike usage on bike path D, by day of the week\n",
    "'''YOUR CODE HERE'''"
   ]
  },
  {
   "cell_type": "markdown",
   "metadata": {},
   "source": [
    "The numpy library offers a lot more summary statistics that may be of interest.  Typically when importing numpy we'll import as np for short.  Some functions offered in the numpy library can be found here:  \n",
    "\n",
    "https://docs.scipy.org/doc/numpy-1.13.0/reference/routines.statistics.html"
   ]
  },
  {
   "cell_type": "code",
   "execution_count": null,
   "metadata": {
    "collapsed": true
   },
   "outputs": [],
   "source": [
    "'''YOUR CODE HERE'''"
   ]
  },
  {
   "cell_type": "markdown",
   "metadata": {},
   "source": [
    "## 5.  Summing across rows or columns\n",
    "\n",
    "Suppose we want to know 1) which bike path got used the most in 2012 and 2) which day of the week the bike paths are used most.  What do we want to do to answer each of these questions?\n",
    "\n",
    "1)  To answer which bike path got used the most in 2012, we need to sum the columns<br>\n",
    "2)  To answer which day of the week the bike paths are used the most, we need to sum the rows\n",
    "\n",
    "To do this, we can use the sum method.  You can read more about it here:  <br>https://pandas.pydata.org/pandas-docs/stable/generated/pandas.DataFrame.sum.html"
   ]
  },
  {
   "cell_type": "code",
   "execution_count": null,
   "metadata": {
    "collapsed": true
   },
   "outputs": [],
   "source": [
    "#Let's look at the data again\n",
    "'''YOUR CODE HERE'''"
   ]
  },
  {
   "cell_type": "code",
   "execution_count": null,
   "metadata": {
    "collapsed": true
   },
   "outputs": [],
   "source": [
    "# Let's take a look at the .sum method\n",
    "'''YOUR CODE HERE'''\n",
    "#...so axis will allow us to specify if we want to sum across rows or columns."
   ]
  },
  {
   "cell_type": "markdown",
   "metadata": {},
   "source": [
    "To clear up axis = 0 versus axis = 1, you can read this: <br>\n",
    "https://stackoverflow.com/questions/25773245/ambiguity-in-pandas-dataframe-numpy-array-axis-definition <br>"
   ]
  },
  {
   "cell_type": "code",
   "execution_count": 1,
   "metadata": {
    "collapsed": false
   },
   "outputs": [
    {
     "data": {
      "text/html": [
       "<img src=\"https://i.stack.imgur.com/DL0iQ.jpg\"/>"
      ],
      "text/plain": [
       "<IPython.core.display.Image object>"
      ]
     },
     "execution_count": 1,
     "metadata": {},
     "output_type": "execute_result"
    }
   ],
   "source": [
    "from IPython.display import Image\n",
    "from IPython.core.display import HTML \n",
    "Image(url= \"https://i.stack.imgur.com/DL0iQ.jpg\")"
   ]
  },
  {
   "cell_type": "code",
   "execution_count": null,
   "metadata": {
    "collapsed": true
   },
   "outputs": [],
   "source": [
    "# To sum down the columns, use the axis = 0\n",
    "'''YOUR CODE HERE'''"
   ]
  },
  {
   "cell_type": "code",
   "execution_count": null,
   "metadata": {
    "collapsed": true
   },
   "outputs": [],
   "source": [
    "# Make a bar graph to display\n",
    "'''YOUR CODE HERE'''"
   ]
  },
  {
   "cell_type": "code",
   "execution_count": null,
   "metadata": {
    "collapsed": true
   },
   "outputs": [],
   "source": [
    "# To sum across the rows, use the axis = 1\n",
    "'''YOUR CODE HERE'''"
   ]
  },
  {
   "cell_type": "code",
   "execution_count": null,
   "metadata": {
    "collapsed": true
   },
   "outputs": [],
   "source": [
    "# Make a bar graph\n",
    "'''YOUR CODE HERE'''"
   ]
  },
  {
   "cell_type": "markdown",
   "metadata": {},
   "source": [
    "## You try"
   ]
  },
  {
   "cell_type": "markdown",
   "metadata": {},
   "source": [
    "What month does path D get used most?"
   ]
  },
  {
   "cell_type": "code",
   "execution_count": null,
   "metadata": {
    "collapsed": true
   },
   "outputs": [],
   "source": [
    "'''YOUR CODE HERE'''"
   ]
  },
  {
   "cell_type": "markdown",
   "metadata": {},
   "source": [
    "Answer:  ???"
   ]
  }
 ],
 "metadata": {
  "anaconda-cloud": {},
  "kernelspec": {
   "display_name": "Python [Root]",
   "language": "python",
   "name": "Python [Root]"
  },
  "language_info": {
   "codemirror_mode": {
    "name": "ipython",
    "version": 3
   },
   "file_extension": ".py",
   "mimetype": "text/x-python",
   "name": "python",
   "nbconvert_exporter": "python",
   "pygments_lexer": "ipython3",
   "version": "3.5.2"
  }
 },
 "nbformat": 4,
 "nbformat_minor": 2
}
