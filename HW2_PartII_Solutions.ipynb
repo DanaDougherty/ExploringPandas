{
 "cells": [
  {
   "cell_type": "markdown",
   "metadata": {},
   "source": [
    "# HW2 Part II - SOLUTIONS"
   ]
  },
  {
   "cell_type": "code",
   "execution_count": 2,
   "metadata": {
    "collapsed": true
   },
   "outputs": [],
   "source": [
    "# Import pandas module\n",
    "import pandas as pd\n",
    "\n",
    "%matplotlib inline"
   ]
  },
  {
   "cell_type": "markdown",
   "metadata": {},
   "source": [
    "# Import the data\n",
    "Be sure to:\n",
    "    - Make the dates of data type pandas.tslib.Timestamp\n",
    "    - Make date column the index column\n",
    "    - Print the head of the resulting data frame"
   ]
  },
  {
   "cell_type": "code",
   "execution_count": 3,
   "metadata": {
    "collapsed": false
   },
   "outputs": [
    {
     "data": {
      "text/html": [
       "<div>\n",
       "<table border=\"1\" class=\"dataframe\">\n",
       "  <thead>\n",
       "    <tr style=\"text-align: right;\">\n",
       "      <th></th>\n",
       "      <th>CaseNumber</th>\n",
       "      <th>Sex</th>\n",
       "      <th>Race</th>\n",
       "      <th>Age</th>\n",
       "      <th>Residence City</th>\n",
       "      <th>Residence State</th>\n",
       "      <th>Residence County</th>\n",
       "      <th>Death City</th>\n",
       "      <th>Death State</th>\n",
       "      <th>Death County</th>\n",
       "      <th>...</th>\n",
       "      <th>Benzodiazepine</th>\n",
       "      <th>Methadone</th>\n",
       "      <th>Amphet</th>\n",
       "      <th>Tramad</th>\n",
       "      <th>Morphine (not heroin)</th>\n",
       "      <th>Other</th>\n",
       "      <th>Any Opioid</th>\n",
       "      <th>MannerofDeath</th>\n",
       "      <th>AmendedMannerofDeath</th>\n",
       "      <th>DeathLoc</th>\n",
       "    </tr>\n",
       "    <tr>\n",
       "      <th>Date</th>\n",
       "      <th></th>\n",
       "      <th></th>\n",
       "      <th></th>\n",
       "      <th></th>\n",
       "      <th></th>\n",
       "      <th></th>\n",
       "      <th></th>\n",
       "      <th></th>\n",
       "      <th></th>\n",
       "      <th></th>\n",
       "      <th></th>\n",
       "      <th></th>\n",
       "      <th></th>\n",
       "      <th></th>\n",
       "      <th></th>\n",
       "      <th></th>\n",
       "      <th></th>\n",
       "      <th></th>\n",
       "      <th></th>\n",
       "      <th></th>\n",
       "      <th></th>\n",
       "    </tr>\n",
       "  </thead>\n",
       "  <tbody>\n",
       "    <tr>\n",
       "      <th>2013-11-09</th>\n",
       "      <td>13-16336</td>\n",
       "      <td>Female</td>\n",
       "      <td>White</td>\n",
       "      <td>53.0</td>\n",
       "      <td>GROTON</td>\n",
       "      <td>NaN</td>\n",
       "      <td>NEW LONDON</td>\n",
       "      <td>GROTON</td>\n",
       "      <td>NaN</td>\n",
       "      <td>NEW LONDON</td>\n",
       "      <td>...</td>\n",
       "      <td>Y</td>\n",
       "      <td>NaN</td>\n",
       "      <td>NaN</td>\n",
       "      <td>NaN</td>\n",
       "      <td>NaN</td>\n",
       "      <td>NaN</td>\n",
       "      <td>NaN</td>\n",
       "      <td>Accident</td>\n",
       "      <td>NaN</td>\n",
       "      <td>GROTON, CT\\n(41.343693, -72.07877)</td>\n",
       "    </tr>\n",
       "    <tr>\n",
       "      <th>2012-12-29</th>\n",
       "      <td>12-18447</td>\n",
       "      <td>Male</td>\n",
       "      <td>White</td>\n",
       "      <td>30.0</td>\n",
       "      <td>WOLCOTT</td>\n",
       "      <td>NaN</td>\n",
       "      <td>NEW HAVEN</td>\n",
       "      <td>WATERBURY</td>\n",
       "      <td>NaN</td>\n",
       "      <td>NEW HAVEN</td>\n",
       "      <td>...</td>\n",
       "      <td>NaN</td>\n",
       "      <td>NaN</td>\n",
       "      <td>NaN</td>\n",
       "      <td>NaN</td>\n",
       "      <td>NaN</td>\n",
       "      <td>NaN</td>\n",
       "      <td>NaN</td>\n",
       "      <td>Accident</td>\n",
       "      <td>NaN</td>\n",
       "      <td>WATERBURY, CT\\n(41.554261, -73.043069)</td>\n",
       "    </tr>\n",
       "    <tr>\n",
       "      <th>2014-02-18</th>\n",
       "      <td>14-2758</td>\n",
       "      <td>Male</td>\n",
       "      <td>White</td>\n",
       "      <td>43.0</td>\n",
       "      <td>ENFIELD</td>\n",
       "      <td>NaN</td>\n",
       "      <td>NaN</td>\n",
       "      <td>ENFIELD</td>\n",
       "      <td>NaN</td>\n",
       "      <td>NaN</td>\n",
       "      <td>...</td>\n",
       "      <td>Y</td>\n",
       "      <td>NaN</td>\n",
       "      <td>NaN</td>\n",
       "      <td>NaN</td>\n",
       "      <td>NaN</td>\n",
       "      <td>NaN</td>\n",
       "      <td>NaN</td>\n",
       "      <td>Accident</td>\n",
       "      <td>NaN</td>\n",
       "      <td>ENFIELD, CT\\n(41.976501, -72.591985)</td>\n",
       "    </tr>\n",
       "    <tr>\n",
       "      <th>2014-09-07</th>\n",
       "      <td>14-13497</td>\n",
       "      <td>Female</td>\n",
       "      <td>White</td>\n",
       "      <td>24.0</td>\n",
       "      <td>WALLINGFORD</td>\n",
       "      <td>NaN</td>\n",
       "      <td>NaN</td>\n",
       "      <td>WALLINGFORD</td>\n",
       "      <td>NaN</td>\n",
       "      <td>NEW HAVEN</td>\n",
       "      <td>...</td>\n",
       "      <td>NaN</td>\n",
       "      <td>NaN</td>\n",
       "      <td>NaN</td>\n",
       "      <td>NaN</td>\n",
       "      <td>NaN</td>\n",
       "      <td>NaN</td>\n",
       "      <td>NaN</td>\n",
       "      <td>Accident</td>\n",
       "      <td>NaN</td>\n",
       "      <td>WALLINGFORD, CT\\n(41.454408, -72.818414)</td>\n",
       "    </tr>\n",
       "    <tr>\n",
       "      <th>2013-10-04</th>\n",
       "      <td>13-14421</td>\n",
       "      <td>Female</td>\n",
       "      <td>White</td>\n",
       "      <td>26.0</td>\n",
       "      <td>WEST HAVEN</td>\n",
       "      <td>NaN</td>\n",
       "      <td>NEW HAVEN</td>\n",
       "      <td>WEST HAVEN</td>\n",
       "      <td>NaN</td>\n",
       "      <td>NEW HAVEN</td>\n",
       "      <td>...</td>\n",
       "      <td>NaN</td>\n",
       "      <td>NaN</td>\n",
       "      <td>NaN</td>\n",
       "      <td>NaN</td>\n",
       "      <td>NaN</td>\n",
       "      <td>NaN</td>\n",
       "      <td>NaN</td>\n",
       "      <td>Accident</td>\n",
       "      <td>NaN</td>\n",
       "      <td>WEST HAVEN, CT\\n(41.272336, -72.949817)</td>\n",
       "    </tr>\n",
       "  </tbody>\n",
       "</table>\n",
       "<p>5 rows × 31 columns</p>\n",
       "</div>"
      ],
      "text/plain": [
       "           CaseNumber     Sex   Race   Age Residence City Residence State  \\\n",
       "Date                                                                        \n",
       "2013-11-09   13-16336  Female  White  53.0         GROTON             NaN   \n",
       "2012-12-29   12-18447    Male  White  30.0        WOLCOTT             NaN   \n",
       "2014-02-18    14-2758    Male  White  43.0        ENFIELD             NaN   \n",
       "2014-09-07   14-13497  Female  White  24.0    WALLINGFORD             NaN   \n",
       "2013-10-04   13-14421  Female  White  26.0     WEST HAVEN             NaN   \n",
       "\n",
       "           Residence County   Death City Death State Death County  \\\n",
       "Date                                                                \n",
       "2013-11-09       NEW LONDON       GROTON         NaN   NEW LONDON   \n",
       "2012-12-29        NEW HAVEN    WATERBURY         NaN    NEW HAVEN   \n",
       "2014-02-18              NaN      ENFIELD         NaN          NaN   \n",
       "2014-09-07              NaN  WALLINGFORD         NaN    NEW HAVEN   \n",
       "2013-10-04        NEW HAVEN   WEST HAVEN         NaN    NEW HAVEN   \n",
       "\n",
       "                              ...                    Benzodiazepine Methadone  \\\n",
       "Date                          ...                                               \n",
       "2013-11-09                    ...                                 Y       NaN   \n",
       "2012-12-29                    ...                               NaN       NaN   \n",
       "2014-02-18                    ...                                 Y       NaN   \n",
       "2014-09-07                    ...                               NaN       NaN   \n",
       "2013-10-04                    ...                               NaN       NaN   \n",
       "\n",
       "           Amphet Tramad Morphine (not heroin) Other Any Opioid MannerofDeath  \\\n",
       "Date                                                                            \n",
       "2013-11-09    NaN    NaN                   NaN   NaN        NaN      Accident   \n",
       "2012-12-29    NaN    NaN                   NaN   NaN        NaN      Accident   \n",
       "2014-02-18    NaN    NaN                   NaN   NaN        NaN      Accident   \n",
       "2014-09-07    NaN    NaN                   NaN   NaN        NaN      Accident   \n",
       "2013-10-04    NaN    NaN                   NaN   NaN        NaN      Accident   \n",
       "\n",
       "           AmendedMannerofDeath                                  DeathLoc  \n",
       "Date                                                                       \n",
       "2013-11-09                  NaN        GROTON, CT\\n(41.343693, -72.07877)  \n",
       "2012-12-29                  NaN    WATERBURY, CT\\n(41.554261, -73.043069)  \n",
       "2014-02-18                  NaN      ENFIELD, CT\\n(41.976501, -72.591985)  \n",
       "2014-09-07                  NaN  WALLINGFORD, CT\\n(41.454408, -72.818414)  \n",
       "2013-10-04                  NaN   WEST HAVEN, CT\\n(41.272336, -72.949817)  \n",
       "\n",
       "[5 rows x 31 columns]"
      ]
     },
     "execution_count": 3,
     "metadata": {},
     "output_type": "execute_result"
    }
   ],
   "source": [
    "df = pd.read_csv('drugdeaths.csv', parse_dates = ['Date'], index_col = 'Date')\n",
    "df.head()"
   ]
  },
  {
   "cell_type": "code",
   "execution_count": 4,
   "metadata": {
    "collapsed": false
   },
   "outputs": [
    {
     "data": {
      "text/plain": [
       "array([11, 12,  2, ...,  2,  4,  1])"
      ]
     },
     "execution_count": 4,
     "metadata": {},
     "output_type": "execute_result"
    }
   ],
   "source": [
    "df.index.month"
   ]
  },
  {
   "cell_type": "markdown",
   "metadata": {},
   "source": [
    "# Make Month Column\n",
    "Be sure to:\n",
    "    - Create a \"Month\" column whose values are Jan, Feb,...,Nov, Dec\n",
    "    - Print the head of the data frame"
   ]
  },
  {
   "cell_type": "code",
   "execution_count": 6,
   "metadata": {
    "collapsed": false
   },
   "outputs": [],
   "source": [
    "# Make a function\n",
    "def month(num):\n",
    "    days = ['Jan', 'Feb', 'Mar', 'Apr', 'May', \"Jun\", 'Jul', 'Aug', 'Sep', 'Oct', 'Nov', 'Dec']\n",
    "    return days[num-1]\n",
    "\n",
    "df['Month'] = df.index.month\n",
    "df['Month'] = df['Month'].apply(month)"
   ]
  },
  {
   "cell_type": "code",
   "execution_count": 7,
   "metadata": {
    "collapsed": false
   },
   "outputs": [
    {
     "data": {
      "text/html": [
       "<div>\n",
       "<table border=\"1\" class=\"dataframe\">\n",
       "  <thead>\n",
       "    <tr style=\"text-align: right;\">\n",
       "      <th></th>\n",
       "      <th>CaseNumber</th>\n",
       "      <th>Sex</th>\n",
       "      <th>Race</th>\n",
       "      <th>Age</th>\n",
       "      <th>Residence City</th>\n",
       "      <th>Residence State</th>\n",
       "      <th>Residence County</th>\n",
       "      <th>Death City</th>\n",
       "      <th>Death State</th>\n",
       "      <th>Death County</th>\n",
       "      <th>...</th>\n",
       "      <th>Methadone</th>\n",
       "      <th>Amphet</th>\n",
       "      <th>Tramad</th>\n",
       "      <th>Morphine (not heroin)</th>\n",
       "      <th>Other</th>\n",
       "      <th>Any Opioid</th>\n",
       "      <th>MannerofDeath</th>\n",
       "      <th>AmendedMannerofDeath</th>\n",
       "      <th>DeathLoc</th>\n",
       "      <th>Month</th>\n",
       "    </tr>\n",
       "    <tr>\n",
       "      <th>Date</th>\n",
       "      <th></th>\n",
       "      <th></th>\n",
       "      <th></th>\n",
       "      <th></th>\n",
       "      <th></th>\n",
       "      <th></th>\n",
       "      <th></th>\n",
       "      <th></th>\n",
       "      <th></th>\n",
       "      <th></th>\n",
       "      <th></th>\n",
       "      <th></th>\n",
       "      <th></th>\n",
       "      <th></th>\n",
       "      <th></th>\n",
       "      <th></th>\n",
       "      <th></th>\n",
       "      <th></th>\n",
       "      <th></th>\n",
       "      <th></th>\n",
       "      <th></th>\n",
       "    </tr>\n",
       "  </thead>\n",
       "  <tbody>\n",
       "    <tr>\n",
       "      <th>2013-11-09</th>\n",
       "      <td>13-16336</td>\n",
       "      <td>Female</td>\n",
       "      <td>White</td>\n",
       "      <td>53.0</td>\n",
       "      <td>GROTON</td>\n",
       "      <td>NaN</td>\n",
       "      <td>NEW LONDON</td>\n",
       "      <td>GROTON</td>\n",
       "      <td>NaN</td>\n",
       "      <td>NEW LONDON</td>\n",
       "      <td>...</td>\n",
       "      <td>NaN</td>\n",
       "      <td>NaN</td>\n",
       "      <td>NaN</td>\n",
       "      <td>NaN</td>\n",
       "      <td>NaN</td>\n",
       "      <td>NaN</td>\n",
       "      <td>Accident</td>\n",
       "      <td>NaN</td>\n",
       "      <td>GROTON, CT\\n(41.343693, -72.07877)</td>\n",
       "      <td>Nov</td>\n",
       "    </tr>\n",
       "    <tr>\n",
       "      <th>2012-12-29</th>\n",
       "      <td>12-18447</td>\n",
       "      <td>Male</td>\n",
       "      <td>White</td>\n",
       "      <td>30.0</td>\n",
       "      <td>WOLCOTT</td>\n",
       "      <td>NaN</td>\n",
       "      <td>NEW HAVEN</td>\n",
       "      <td>WATERBURY</td>\n",
       "      <td>NaN</td>\n",
       "      <td>NEW HAVEN</td>\n",
       "      <td>...</td>\n",
       "      <td>NaN</td>\n",
       "      <td>NaN</td>\n",
       "      <td>NaN</td>\n",
       "      <td>NaN</td>\n",
       "      <td>NaN</td>\n",
       "      <td>NaN</td>\n",
       "      <td>Accident</td>\n",
       "      <td>NaN</td>\n",
       "      <td>WATERBURY, CT\\n(41.554261, -73.043069)</td>\n",
       "      <td>Dec</td>\n",
       "    </tr>\n",
       "    <tr>\n",
       "      <th>2014-02-18</th>\n",
       "      <td>14-2758</td>\n",
       "      <td>Male</td>\n",
       "      <td>White</td>\n",
       "      <td>43.0</td>\n",
       "      <td>ENFIELD</td>\n",
       "      <td>NaN</td>\n",
       "      <td>NaN</td>\n",
       "      <td>ENFIELD</td>\n",
       "      <td>NaN</td>\n",
       "      <td>NaN</td>\n",
       "      <td>...</td>\n",
       "      <td>NaN</td>\n",
       "      <td>NaN</td>\n",
       "      <td>NaN</td>\n",
       "      <td>NaN</td>\n",
       "      <td>NaN</td>\n",
       "      <td>NaN</td>\n",
       "      <td>Accident</td>\n",
       "      <td>NaN</td>\n",
       "      <td>ENFIELD, CT\\n(41.976501, -72.591985)</td>\n",
       "      <td>Feb</td>\n",
       "    </tr>\n",
       "    <tr>\n",
       "      <th>2014-09-07</th>\n",
       "      <td>14-13497</td>\n",
       "      <td>Female</td>\n",
       "      <td>White</td>\n",
       "      <td>24.0</td>\n",
       "      <td>WALLINGFORD</td>\n",
       "      <td>NaN</td>\n",
       "      <td>NaN</td>\n",
       "      <td>WALLINGFORD</td>\n",
       "      <td>NaN</td>\n",
       "      <td>NEW HAVEN</td>\n",
       "      <td>...</td>\n",
       "      <td>NaN</td>\n",
       "      <td>NaN</td>\n",
       "      <td>NaN</td>\n",
       "      <td>NaN</td>\n",
       "      <td>NaN</td>\n",
       "      <td>NaN</td>\n",
       "      <td>Accident</td>\n",
       "      <td>NaN</td>\n",
       "      <td>WALLINGFORD, CT\\n(41.454408, -72.818414)</td>\n",
       "      <td>Sep</td>\n",
       "    </tr>\n",
       "    <tr>\n",
       "      <th>2013-10-04</th>\n",
       "      <td>13-14421</td>\n",
       "      <td>Female</td>\n",
       "      <td>White</td>\n",
       "      <td>26.0</td>\n",
       "      <td>WEST HAVEN</td>\n",
       "      <td>NaN</td>\n",
       "      <td>NEW HAVEN</td>\n",
       "      <td>WEST HAVEN</td>\n",
       "      <td>NaN</td>\n",
       "      <td>NEW HAVEN</td>\n",
       "      <td>...</td>\n",
       "      <td>NaN</td>\n",
       "      <td>NaN</td>\n",
       "      <td>NaN</td>\n",
       "      <td>NaN</td>\n",
       "      <td>NaN</td>\n",
       "      <td>NaN</td>\n",
       "      <td>Accident</td>\n",
       "      <td>NaN</td>\n",
       "      <td>WEST HAVEN, CT\\n(41.272336, -72.949817)</td>\n",
       "      <td>Oct</td>\n",
       "    </tr>\n",
       "  </tbody>\n",
       "</table>\n",
       "<p>5 rows × 32 columns</p>\n",
       "</div>"
      ],
      "text/plain": [
       "           CaseNumber     Sex   Race   Age Residence City Residence State  \\\n",
       "Date                                                                        \n",
       "2013-11-09   13-16336  Female  White  53.0         GROTON             NaN   \n",
       "2012-12-29   12-18447    Male  White  30.0        WOLCOTT             NaN   \n",
       "2014-02-18    14-2758    Male  White  43.0        ENFIELD             NaN   \n",
       "2014-09-07   14-13497  Female  White  24.0    WALLINGFORD             NaN   \n",
       "2013-10-04   13-14421  Female  White  26.0     WEST HAVEN             NaN   \n",
       "\n",
       "           Residence County   Death City Death State Death County  ...   \\\n",
       "Date                                                               ...    \n",
       "2013-11-09       NEW LONDON       GROTON         NaN   NEW LONDON  ...    \n",
       "2012-12-29        NEW HAVEN    WATERBURY         NaN    NEW HAVEN  ...    \n",
       "2014-02-18              NaN      ENFIELD         NaN          NaN  ...    \n",
       "2014-09-07              NaN  WALLINGFORD         NaN    NEW HAVEN  ...    \n",
       "2013-10-04        NEW HAVEN   WEST HAVEN         NaN    NEW HAVEN  ...    \n",
       "\n",
       "           Methadone Amphet Tramad Morphine (not heroin) Other Any Opioid  \\\n",
       "Date                                                                        \n",
       "2013-11-09       NaN    NaN    NaN                   NaN   NaN        NaN   \n",
       "2012-12-29       NaN    NaN    NaN                   NaN   NaN        NaN   \n",
       "2014-02-18       NaN    NaN    NaN                   NaN   NaN        NaN   \n",
       "2014-09-07       NaN    NaN    NaN                   NaN   NaN        NaN   \n",
       "2013-10-04       NaN    NaN    NaN                   NaN   NaN        NaN   \n",
       "\n",
       "           MannerofDeath AmendedMannerofDeath  \\\n",
       "Date                                            \n",
       "2013-11-09      Accident                  NaN   \n",
       "2012-12-29      Accident                  NaN   \n",
       "2014-02-18      Accident                  NaN   \n",
       "2014-09-07      Accident                  NaN   \n",
       "2013-10-04      Accident                  NaN   \n",
       "\n",
       "                                            DeathLoc Month  \n",
       "Date                                                        \n",
       "2013-11-09        GROTON, CT\\n(41.343693, -72.07877)   Nov  \n",
       "2012-12-29    WATERBURY, CT\\n(41.554261, -73.043069)   Dec  \n",
       "2014-02-18      ENFIELD, CT\\n(41.976501, -72.591985)   Feb  \n",
       "2014-09-07  WALLINGFORD, CT\\n(41.454408, -72.818414)   Sep  \n",
       "2013-10-04   WEST HAVEN, CT\\n(41.272336, -72.949817)   Oct  \n",
       "\n",
       "[5 rows x 32 columns]"
      ]
     },
     "execution_count": 7,
     "metadata": {},
     "output_type": "execute_result"
    }
   ],
   "source": [
    "df.head()"
   ]
  },
  {
   "cell_type": "markdown",
   "metadata": {},
   "source": [
    "# Q1: How many accidental deaths are there by month?"
   ]
  },
  {
   "cell_type": "code",
   "execution_count": 8,
   "metadata": {
    "collapsed": false
   },
   "outputs": [
    {
     "data": {
      "text/plain": [
       "Month\n",
       "Apr    314\n",
       "Aug    237\n",
       "Dec    280\n",
       "Feb    326\n",
       "Jan    320\n",
       "Jul    250\n",
       "Jun    350\n",
       "Mar    329\n",
       "May    326\n",
       "Nov    307\n",
       "Oct    292\n",
       "Sep    250\n",
       "dtype: int64"
      ]
     },
     "execution_count": 8,
     "metadata": {},
     "output_type": "execute_result"
    }
   ],
   "source": [
    "month_df = df.groupby('Month')\n",
    "month_df.size()"
   ]
  },
  {
   "cell_type": "markdown",
   "metadata": {},
   "source": [
    "# Q2: What is the city with the most accidental deaths in this dataset?  How many deaths did this city have?"
   ]
  },
  {
   "cell_type": "code",
   "execution_count": 48,
   "metadata": {
    "collapsed": false
   },
   "outputs": [
    {
     "data": {
      "text/plain": [
       "Death City\n",
       "HARTFORD    371\n",
       "dtype: int64"
      ]
     },
     "execution_count": 48,
     "metadata": {},
     "output_type": "execute_result"
    }
   ],
   "source": [
    "city_df = df.groupby('Death City')\n",
    "city_deaths = city_df.size()\n",
    "city_deaths[city_deaths == max(city_deaths)]"
   ]
  },
  {
   "cell_type": "markdown",
   "metadata": {},
   "source": [
    "# Q3:  Find the average age of accidental deaths for all cities in the dataset. \n",
    "Hint: use the aggregate method.\n",
    "\n",
    "    (a) What city has the oldest average age of accidental deaths?  What is the average age of accidental deaths for this city?\n",
    "    (b) What city has the youngest average age of accidental deaths?  What is the average age of accidental deaths for this city?\n"
   ]
  },
  {
   "cell_type": "code",
   "execution_count": 72,
   "metadata": {
    "collapsed": false
   },
   "outputs": [
    {
     "data": {
      "text/html": [
       "<div>\n",
       "<table border=\"1\" class=\"dataframe\">\n",
       "  <thead>\n",
       "    <tr style=\"text-align: right;\">\n",
       "      <th></th>\n",
       "      <th>0</th>\n",
       "    </tr>\n",
       "    <tr>\n",
       "      <th>Death City</th>\n",
       "      <th></th>\n",
       "    </tr>\n",
       "  </thead>\n",
       "  <tbody>\n",
       "    <tr>\n",
       "      <th>GALES FERRY</th>\n",
       "      <td>65.0</td>\n",
       "    </tr>\n",
       "  </tbody>\n",
       "</table>\n",
       "</div>"
      ],
      "text/plain": [
       "                0\n",
       "Death City       \n",
       "GALES FERRY  65.0"
      ]
     },
     "execution_count": 72,
     "metadata": {},
     "output_type": "execute_result"
    }
   ],
   "source": [
    "x = city_df.aggregate(sum)['Age'] / city_deaths\n",
    "x = pd.DataFrame(x)\n",
    "x[x[0] == max(x[0])]"
   ]
  },
  {
   "cell_type": "code",
   "execution_count": 73,
   "metadata": {
    "collapsed": false
   },
   "outputs": [
    {
     "data": {
      "text/html": [
       "<div>\n",
       "<table border=\"1\" class=\"dataframe\">\n",
       "  <thead>\n",
       "    <tr style=\"text-align: right;\">\n",
       "      <th></th>\n",
       "      <th>0</th>\n",
       "    </tr>\n",
       "    <tr>\n",
       "      <th>Death City</th>\n",
       "      <th></th>\n",
       "    </tr>\n",
       "  </thead>\n",
       "  <tbody>\n",
       "    <tr>\n",
       "      <th>NEW PRESTON</th>\n",
       "      <td>17.0</td>\n",
       "    </tr>\n",
       "  </tbody>\n",
       "</table>\n",
       "</div>"
      ],
      "text/plain": [
       "                0\n",
       "Death City       \n",
       "NEW PRESTON  17.0"
      ]
     },
     "execution_count": 73,
     "metadata": {},
     "output_type": "execute_result"
    }
   ],
   "source": [
    "x = city_df.aggregate(sum)['Age'] / city_deaths\n",
    "x = pd.DataFrame(x)\n",
    "x[x[0] == min(x[0])]"
   ]
  },
  {
   "cell_type": "markdown",
   "metadata": {},
   "source": [
    "# Q4:  Make a bar chart to display the frequency of the ages that occur in this dataset.  Comment on the chart in 1-2 sentences. "
   ]
  },
  {
   "cell_type": "code",
   "execution_count": 19,
   "metadata": {
    "collapsed": false
   },
   "outputs": [
    {
     "data": {
      "text/plain": [
       "<matplotlib.axes._subplots.AxesSubplot at 0x1ac60a71d68>"
      ]
     },
     "execution_count": 19,
     "metadata": {},
     "output_type": "execute_result"
    },
    {
     "data": {
      "image/png": "[encoded data removed]",
      "text/plain": [
       "<matplotlib.figure.Figure at 0x1ac60a354a8>"
      ]
     },
     "metadata": {},
     "output_type": "display_data"
    }
   ],
   "source": [
    "city_df = df.groupby('Age')\n",
    "city_deaths = city_df.size()\n",
    "city_deaths.plot(kind=\"bar\")"
   ]
  }
 ],
 "metadata": {
  "anaconda-cloud": {},
  "kernelspec": {
   "display_name": "Python [Root]",
   "language": "python",
   "name": "Python [Root]"
  },
  "language_info": {
   "codemirror_mode": {
    "name": "ipython",
    "version": 3
   },
   "file_extension": ".py",
   "mimetype": "text/x-python",
   "name": "python",
   "nbconvert_exporter": "python",
   "pygments_lexer": "ipython3",
   "version": "3.5.2"
  }
 },
 "nbformat": 4,
 "nbformat_minor": 2
}
