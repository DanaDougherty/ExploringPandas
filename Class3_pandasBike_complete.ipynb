{
 "cells": [
  {
   "cell_type": "markdown",
   "metadata": {},
   "source": [
    "# IS - Class 3\n",
    "# COMPLETE\n",
    "Using Pandas (cont'd)\n",
    "\n",
    "Today we'll work with bike path data from Montreal.  The data contains how many cyclists used 9 bike paths on a given date.  We'll be following the tutorial from the following closely, which you can reference later:\n",
    "\n",
    "http://nbviewer.jupyter.org/github/jvns/pandas-cookbook/blob/v0.1/cookbook/Chapter%201%20-%20Reading%20from%20a%20CSV.ipynb\n",
    "\n",
    "Our goal is to analyze usage of the bike paths by weekday."
   ]
  },
  {
   "cell_type": "markdown",
   "metadata": {},
   "source": [
    "## 0. Warm up - Loading and Inspecting the Data\n",
    "\n",
    "Load the bike.csv data (posted on D2L)"
   ]
  },
  {
   "cell_type": "code",
   "execution_count": 1,
   "metadata": {
    "collapsed": true
   },
   "outputs": [],
   "source": [
    "# Import pandas module\n",
    "import pandas as pd\n",
    "\n",
    "%matplotlib inline"
   ]
  },
  {
   "cell_type": "code",
   "execution_count": 2,
   "metadata": {
    "collapsed": false
   },
   "outputs": [
    {
     "data": {
      "text/html": [
       "<div>\n",
       "<table border=\"1\" class=\"dataframe\">\n",
       "  <thead>\n",
       "    <tr style=\"text-align: right;\">\n",
       "      <th></th>\n",
       "      <th>Date</th>\n",
       "      <th>Unnamed: 1</th>\n",
       "      <th>Rachel / Papineau</th>\n",
       "      <th>Berri1</th>\n",
       "      <th>Maisonneuve_2</th>\n",
       "      <th>Maisonneuve_1</th>\n",
       "      <th>Brébeuf</th>\n",
       "      <th>Parc</th>\n",
       "      <th>PierDup</th>\n",
       "      <th>CSC (Côte Sainte-Catherine)</th>\n",
       "      <th>Pont_Jacques_Cartier</th>\n",
       "    </tr>\n",
       "  </thead>\n",
       "  <tbody>\n",
       "    <tr>\n",
       "      <th>0</th>\n",
       "      <td>1/1/2012</td>\n",
       "      <td>0:00</td>\n",
       "      <td>16</td>\n",
       "      <td>35</td>\n",
       "      <td>51</td>\n",
       "      <td>38</td>\n",
       "      <td>5.0</td>\n",
       "      <td>26</td>\n",
       "      <td>10</td>\n",
       "      <td>0</td>\n",
       "      <td>27.0</td>\n",
       "    </tr>\n",
       "    <tr>\n",
       "      <th>1</th>\n",
       "      <td>2/1/2012</td>\n",
       "      <td>0:00</td>\n",
       "      <td>43</td>\n",
       "      <td>83</td>\n",
       "      <td>153</td>\n",
       "      <td>68</td>\n",
       "      <td>11.0</td>\n",
       "      <td>53</td>\n",
       "      <td>6</td>\n",
       "      <td>1</td>\n",
       "      <td>21.0</td>\n",
       "    </tr>\n",
       "    <tr>\n",
       "      <th>2</th>\n",
       "      <td>3/1/2012</td>\n",
       "      <td>0:00</td>\n",
       "      <td>58</td>\n",
       "      <td>135</td>\n",
       "      <td>248</td>\n",
       "      <td>104</td>\n",
       "      <td>2.0</td>\n",
       "      <td>89</td>\n",
       "      <td>3</td>\n",
       "      <td>2</td>\n",
       "      <td>15.0</td>\n",
       "    </tr>\n",
       "    <tr>\n",
       "      <th>3</th>\n",
       "      <td>4/1/2012</td>\n",
       "      <td>0:00</td>\n",
       "      <td>61</td>\n",
       "      <td>144</td>\n",
       "      <td>318</td>\n",
       "      <td>116</td>\n",
       "      <td>2.0</td>\n",
       "      <td>111</td>\n",
       "      <td>8</td>\n",
       "      <td>1</td>\n",
       "      <td>19.0</td>\n",
       "    </tr>\n",
       "    <tr>\n",
       "      <th>4</th>\n",
       "      <td>5/1/2012</td>\n",
       "      <td>0:00</td>\n",
       "      <td>95</td>\n",
       "      <td>197</td>\n",
       "      <td>330</td>\n",
       "      <td>124</td>\n",
       "      <td>6.0</td>\n",
       "      <td>97</td>\n",
       "      <td>13</td>\n",
       "      <td>2</td>\n",
       "      <td>16.0</td>\n",
       "    </tr>\n",
       "  </tbody>\n",
       "</table>\n",
       "</div>"
      ],
      "text/plain": [
       "       Date Unnamed: 1  Rachel / Papineau  Berri1  Maisonneuve_2  \\\n",
       "0  1/1/2012       0:00                 16      35             51   \n",
       "1  2/1/2012       0:00                 43      83            153   \n",
       "2  3/1/2012       0:00                 58     135            248   \n",
       "3  4/1/2012       0:00                 61     144            318   \n",
       "4  5/1/2012       0:00                 95     197            330   \n",
       "\n",
       "   Maisonneuve_1  Brébeuf  Parc  PierDup  CSC (Côte Sainte-Catherine)  \\\n",
       "0             38      5.0    26       10                            0   \n",
       "1             68     11.0    53        6                            1   \n",
       "2            104      2.0    89        3                            2   \n",
       "3            116      2.0   111        8                            1   \n",
       "4            124      6.0    97       13                            2   \n",
       "\n",
       "   Pont_Jacques_Cartier  \n",
       "0                  27.0  \n",
       "1                  21.0  \n",
       "2                  15.0  \n",
       "3                  19.0  \n",
       "4                  16.0  "
      ]
     },
     "execution_count": 2,
     "metadata": {},
     "output_type": "execute_result"
    }
   ],
   "source": [
    "# Load the data from csv, look at the head of the data\n",
    "df = pd.read_csv('bike.csv')\n",
    "df.head()"
   ]
  },
  {
   "cell_type": "code",
   "execution_count": 3,
   "metadata": {
    "collapsed": false
   },
   "outputs": [
    {
     "data": {
      "text/plain": [
       "str"
      ]
     },
     "execution_count": 3,
     "metadata": {},
     "output_type": "execute_result"
    }
   ],
   "source": [
    "type(df['Date'][0])"
   ]
  },
  {
   "cell_type": "markdown",
   "metadata": {},
   "source": [
    "The bike paths are in French, which will make it very difficult to call on the columns.  There are several ways to deal with this, but we'll choose to rename them.\n",
    "\n",
    "Remember that we want to analyze the bike path usage by day of the week, so that date column is important.  We can use the datatype, datetime, to help us figure out what day of the week each row is.  Currently the datatype in the Date column is a string...and you may notice that the format it's in is D/M/Y.\n",
    "\n",
    "We're going to reload the data, adjusting for these things."
   ]
  },
  {
   "cell_type": "code",
   "execution_count": 4,
   "metadata": {
    "collapsed": true
   },
   "outputs": [],
   "source": [
    "# Recall:  to read about this method (or other methods/functions) and its parameters\n",
    "#      type ? and then the method name\n",
    "?pd.read_csv"
   ]
  },
  {
   "cell_type": "code",
   "execution_count": 5,
   "metadata": {
    "collapsed": false
   },
   "outputs": [
    {
     "data": {
      "text/html": [
       "<div>\n",
       "<table border=\"1\" class=\"dataframe\">\n",
       "  <thead>\n",
       "    <tr style=\"text-align: right;\">\n",
       "      <th></th>\n",
       "      <th>Date</th>\n",
       "      <th>Time</th>\n",
       "      <th>A</th>\n",
       "      <th>B</th>\n",
       "      <th>C</th>\n",
       "      <th>D</th>\n",
       "      <th>E</th>\n",
       "      <th>F</th>\n",
       "      <th>G</th>\n",
       "      <th>H</th>\n",
       "      <th>I</th>\n",
       "    </tr>\n",
       "  </thead>\n",
       "  <tbody>\n",
       "    <tr>\n",
       "      <th>361</th>\n",
       "      <td>2012-12-27</td>\n",
       "      <td>0:00</td>\n",
       "      <td>8</td>\n",
       "      <td>12</td>\n",
       "      <td>7</td>\n",
       "      <td>4</td>\n",
       "      <td>NaN</td>\n",
       "      <td>1</td>\n",
       "      <td>2</td>\n",
       "      <td>0</td>\n",
       "      <td>NaN</td>\n",
       "    </tr>\n",
       "    <tr>\n",
       "      <th>362</th>\n",
       "      <td>2012-12-28</td>\n",
       "      <td>0:00</td>\n",
       "      <td>0</td>\n",
       "      <td>35</td>\n",
       "      <td>3</td>\n",
       "      <td>38</td>\n",
       "      <td>NaN</td>\n",
       "      <td>0</td>\n",
       "      <td>0</td>\n",
       "      <td>0</td>\n",
       "      <td>NaN</td>\n",
       "    </tr>\n",
       "    <tr>\n",
       "      <th>363</th>\n",
       "      <td>2012-12-29</td>\n",
       "      <td>0:00</td>\n",
       "      <td>0</td>\n",
       "      <td>27</td>\n",
       "      <td>8</td>\n",
       "      <td>42</td>\n",
       "      <td>NaN</td>\n",
       "      <td>9</td>\n",
       "      <td>0</td>\n",
       "      <td>0</td>\n",
       "      <td>NaN</td>\n",
       "    </tr>\n",
       "    <tr>\n",
       "      <th>364</th>\n",
       "      <td>2012-12-30</td>\n",
       "      <td>0:00</td>\n",
       "      <td>0</td>\n",
       "      <td>5</td>\n",
       "      <td>1</td>\n",
       "      <td>5</td>\n",
       "      <td>NaN</td>\n",
       "      <td>6</td>\n",
       "      <td>0</td>\n",
       "      <td>0</td>\n",
       "      <td>NaN</td>\n",
       "    </tr>\n",
       "    <tr>\n",
       "      <th>365</th>\n",
       "      <td>2012-12-31</td>\n",
       "      <td>0:00</td>\n",
       "      <td>0</td>\n",
       "      <td>4</td>\n",
       "      <td>3</td>\n",
       "      <td>8</td>\n",
       "      <td>NaN</td>\n",
       "      <td>12</td>\n",
       "      <td>0</td>\n",
       "      <td>0</td>\n",
       "      <td>NaN</td>\n",
       "    </tr>\n",
       "  </tbody>\n",
       "</table>\n",
       "</div>"
      ],
      "text/plain": [
       "          Date  Time  A   B  C   D   E   F  G  H   I\n",
       "361 2012-12-27  0:00  8  12  7   4 NaN   1  2  0 NaN\n",
       "362 2012-12-28  0:00  0  35  3  38 NaN   0  0  0 NaN\n",
       "363 2012-12-29  0:00  0  27  8  42 NaN   9  0  0 NaN\n",
       "364 2012-12-30  0:00  0   5  1   5 NaN   6  0  0 NaN\n",
       "365 2012-12-31  0:00  0   4  3   8 NaN  12  0  0 NaN"
      ]
     },
     "execution_count": 5,
     "metadata": {},
     "output_type": "execute_result"
    }
   ],
   "source": [
    "# Import the csv file\n",
    "#     header = 0 to get rid of the header title row\n",
    "#     names = [etc,...] to rename the headers\n",
    "#     parse_dates = ['Date'] to make this column hold timestamps\n",
    "#     dayfirst = True to indicate that the date is originally entered as D/MM/YYYY\n",
    "df = pd.read_csv('bike.csv', header = 0, names = ['Date', 'Time','A','B','C','D','E','F','G','H','I'], parse_dates=['Date'], dayfirst = True)\n",
    "\n",
    "# Look at the first few rows\n",
    "df.tail()"
   ]
  },
  {
   "cell_type": "code",
   "execution_count": 6,
   "metadata": {
    "collapsed": false
   },
   "outputs": [
    {
     "name": "stdout",
     "output_type": "stream",
     "text": [
      "<class 'pandas.core.frame.DataFrame'>\n",
      "RangeIndex: 366 entries, 0 to 365\n",
      "Data columns (total 11 columns):\n",
      "Date    366 non-null datetime64[ns]\n",
      "Time    366 non-null object\n",
      "A       366 non-null int64\n",
      "B       366 non-null int64\n",
      "C       366 non-null int64\n",
      "D       366 non-null int64\n",
      "E       146 non-null float64\n",
      "F       366 non-null int64\n",
      "G       366 non-null int64\n",
      "H       366 non-null int64\n",
      "I       317 non-null float64\n",
      "dtypes: datetime64[ns](1), float64(2), int64(7), object(1)\n",
      "memory usage: 31.5+ KB\n"
     ]
    }
   ],
   "source": [
    "df.info()"
   ]
  },
  {
   "cell_type": "code",
   "execution_count": 7,
   "metadata": {
    "collapsed": false
   },
   "outputs": [
    {
     "data": {
      "text/plain": [
       "pandas.tslib.Timestamp"
      ]
     },
     "execution_count": 7,
     "metadata": {},
     "output_type": "execute_result"
    }
   ],
   "source": [
    "type(df.Date[0])"
   ]
  },
  {
   "cell_type": "markdown",
   "metadata": {},
   "source": [
    "Notice that our Date column is a datetime type now.\n",
    "\n",
    "Also, you may have noticed that our \"index column\" is 0-365.  We may choose instead to have our date be the index for this dataframe.  This will make for a nicer when we plot the data."
   ]
  },
  {
   "cell_type": "code",
   "execution_count": 8,
   "metadata": {
    "collapsed": false
   },
   "outputs": [
    {
     "data": {
      "text/html": [
       "<div>\n",
       "<table border=\"1\" class=\"dataframe\">\n",
       "  <thead>\n",
       "    <tr style=\"text-align: right;\">\n",
       "      <th></th>\n",
       "      <th>Time</th>\n",
       "      <th>A</th>\n",
       "      <th>B</th>\n",
       "      <th>C</th>\n",
       "      <th>D</th>\n",
       "      <th>E</th>\n",
       "      <th>F</th>\n",
       "      <th>G</th>\n",
       "      <th>H</th>\n",
       "      <th>I</th>\n",
       "    </tr>\n",
       "    <tr>\n",
       "      <th>Date</th>\n",
       "      <th></th>\n",
       "      <th></th>\n",
       "      <th></th>\n",
       "      <th></th>\n",
       "      <th></th>\n",
       "      <th></th>\n",
       "      <th></th>\n",
       "      <th></th>\n",
       "      <th></th>\n",
       "      <th></th>\n",
       "    </tr>\n",
       "  </thead>\n",
       "  <tbody>\n",
       "    <tr>\n",
       "      <th>2012-01-01</th>\n",
       "      <td>0:00</td>\n",
       "      <td>16</td>\n",
       "      <td>35</td>\n",
       "      <td>51</td>\n",
       "      <td>38</td>\n",
       "      <td>5.0</td>\n",
       "      <td>26</td>\n",
       "      <td>10</td>\n",
       "      <td>0</td>\n",
       "      <td>27.0</td>\n",
       "    </tr>\n",
       "    <tr>\n",
       "      <th>2012-01-02</th>\n",
       "      <td>0:00</td>\n",
       "      <td>43</td>\n",
       "      <td>83</td>\n",
       "      <td>153</td>\n",
       "      <td>68</td>\n",
       "      <td>11.0</td>\n",
       "      <td>53</td>\n",
       "      <td>6</td>\n",
       "      <td>1</td>\n",
       "      <td>21.0</td>\n",
       "    </tr>\n",
       "    <tr>\n",
       "      <th>2012-01-03</th>\n",
       "      <td>0:00</td>\n",
       "      <td>58</td>\n",
       "      <td>135</td>\n",
       "      <td>248</td>\n",
       "      <td>104</td>\n",
       "      <td>2.0</td>\n",
       "      <td>89</td>\n",
       "      <td>3</td>\n",
       "      <td>2</td>\n",
       "      <td>15.0</td>\n",
       "    </tr>\n",
       "    <tr>\n",
       "      <th>2012-01-04</th>\n",
       "      <td>0:00</td>\n",
       "      <td>61</td>\n",
       "      <td>144</td>\n",
       "      <td>318</td>\n",
       "      <td>116</td>\n",
       "      <td>2.0</td>\n",
       "      <td>111</td>\n",
       "      <td>8</td>\n",
       "      <td>1</td>\n",
       "      <td>19.0</td>\n",
       "    </tr>\n",
       "    <tr>\n",
       "      <th>2012-01-05</th>\n",
       "      <td>0:00</td>\n",
       "      <td>95</td>\n",
       "      <td>197</td>\n",
       "      <td>330</td>\n",
       "      <td>124</td>\n",
       "      <td>6.0</td>\n",
       "      <td>97</td>\n",
       "      <td>13</td>\n",
       "      <td>2</td>\n",
       "      <td>16.0</td>\n",
       "    </tr>\n",
       "  </tbody>\n",
       "</table>\n",
       "</div>"
      ],
      "text/plain": [
       "            Time   A    B    C    D     E    F   G  H     I\n",
       "Date                                                       \n",
       "2012-01-01  0:00  16   35   51   38   5.0   26  10  0  27.0\n",
       "2012-01-02  0:00  43   83  153   68  11.0   53   6  1  21.0\n",
       "2012-01-03  0:00  58  135  248  104   2.0   89   3  2  15.0\n",
       "2012-01-04  0:00  61  144  318  116   2.0  111   8  1  19.0\n",
       "2012-01-05  0:00  95  197  330  124   6.0   97  13  2  16.0"
      ]
     },
     "execution_count": 8,
     "metadata": {},
     "output_type": "execute_result"
    }
   ],
   "source": [
    "df = pd.read_csv('bike.csv', index_col = 'Date', header = 0, names = ['Date', 'Time','A','B','C','D','E','F','G','H','I'], parse_dates=['Date'], dayfirst = True)\n",
    "df.head()"
   ]
  },
  {
   "cell_type": "code",
   "execution_count": 9,
   "metadata": {
    "collapsed": false
   },
   "outputs": [
    {
     "data": {
      "text/html": [
       "<div>\n",
       "<table border=\"1\" class=\"dataframe\">\n",
       "  <thead>\n",
       "    <tr style=\"text-align: right;\">\n",
       "      <th></th>\n",
       "      <th>A</th>\n",
       "      <th>B</th>\n",
       "      <th>C</th>\n",
       "      <th>D</th>\n",
       "      <th>E</th>\n",
       "      <th>F</th>\n",
       "      <th>G</th>\n",
       "      <th>H</th>\n",
       "      <th>I</th>\n",
       "    </tr>\n",
       "    <tr>\n",
       "      <th>Date</th>\n",
       "      <th></th>\n",
       "      <th></th>\n",
       "      <th></th>\n",
       "      <th></th>\n",
       "      <th></th>\n",
       "      <th></th>\n",
       "      <th></th>\n",
       "      <th></th>\n",
       "      <th></th>\n",
       "    </tr>\n",
       "  </thead>\n",
       "  <tbody>\n",
       "    <tr>\n",
       "      <th>2012-01-01</th>\n",
       "      <td>16</td>\n",
       "      <td>35</td>\n",
       "      <td>51</td>\n",
       "      <td>38</td>\n",
       "      <td>5.0</td>\n",
       "      <td>26</td>\n",
       "      <td>10</td>\n",
       "      <td>0</td>\n",
       "      <td>27.0</td>\n",
       "    </tr>\n",
       "    <tr>\n",
       "      <th>2012-01-02</th>\n",
       "      <td>43</td>\n",
       "      <td>83</td>\n",
       "      <td>153</td>\n",
       "      <td>68</td>\n",
       "      <td>11.0</td>\n",
       "      <td>53</td>\n",
       "      <td>6</td>\n",
       "      <td>1</td>\n",
       "      <td>21.0</td>\n",
       "    </tr>\n",
       "    <tr>\n",
       "      <th>2012-01-03</th>\n",
       "      <td>58</td>\n",
       "      <td>135</td>\n",
       "      <td>248</td>\n",
       "      <td>104</td>\n",
       "      <td>2.0</td>\n",
       "      <td>89</td>\n",
       "      <td>3</td>\n",
       "      <td>2</td>\n",
       "      <td>15.0</td>\n",
       "    </tr>\n",
       "    <tr>\n",
       "      <th>2012-01-04</th>\n",
       "      <td>61</td>\n",
       "      <td>144</td>\n",
       "      <td>318</td>\n",
       "      <td>116</td>\n",
       "      <td>2.0</td>\n",
       "      <td>111</td>\n",
       "      <td>8</td>\n",
       "      <td>1</td>\n",
       "      <td>19.0</td>\n",
       "    </tr>\n",
       "    <tr>\n",
       "      <th>2012-01-05</th>\n",
       "      <td>95</td>\n",
       "      <td>197</td>\n",
       "      <td>330</td>\n",
       "      <td>124</td>\n",
       "      <td>6.0</td>\n",
       "      <td>97</td>\n",
       "      <td>13</td>\n",
       "      <td>2</td>\n",
       "      <td>16.0</td>\n",
       "    </tr>\n",
       "  </tbody>\n",
       "</table>\n",
       "</div>"
      ],
      "text/plain": [
       "             A    B    C    D     E    F   G  H     I\n",
       "Date                                                 \n",
       "2012-01-01  16   35   51   38   5.0   26  10  0  27.0\n",
       "2012-01-02  43   83  153   68  11.0   53   6  1  21.0\n",
       "2012-01-03  58  135  248  104   2.0   89   3  2  15.0\n",
       "2012-01-04  61  144  318  116   2.0  111   8  1  19.0\n",
       "2012-01-05  95  197  330  124   6.0   97  13  2  16.0"
      ]
     },
     "execution_count": 9,
     "metadata": {},
     "output_type": "execute_result"
    }
   ],
   "source": [
    "# Looks like that Time column is useless...let's delete it.\n",
    "df.drop([\"Time\"],1, inplace = True)\n",
    "# Note:  that second parameter is axis...0 for index, 1 for column.\n",
    "df"
   ]
  },
  {
   "cell_type": "code",
   "execution_count": 10,
   "metadata": {
    "collapsed": false
   },
   "outputs": [
    {
     "data": {
      "text/plain": [
       "<matplotlib.axes._subplots.AxesSubplot at 0x29cc8d53f28>"
      ]
     },
     "execution_count": 10,
     "metadata": {},
     "output_type": "execute_result"
    },
    {
     "data": {
      "image/png": "[encoded data removed]",
      "text/plain": [
       "<matplotlib.figure.Figure at 0x29cc8d39e48>"
      ]
     },
     "metadata": {},
     "output_type": "display_data"
    }
   ],
   "source": [
    "df.D.plot()"
   ]
  },
  {
   "cell_type": "code",
   "execution_count": 11,
   "metadata": {
    "collapsed": false
   },
   "outputs": [
    {
     "data": {
      "text/html": [
       "<div>\n",
       "<table border=\"1\" class=\"dataframe\">\n",
       "  <thead>\n",
       "    <tr style=\"text-align: right;\">\n",
       "      <th></th>\n",
       "      <th>A</th>\n",
       "      <th>B</th>\n",
       "      <th>C</th>\n",
       "      <th>D</th>\n",
       "      <th>E</th>\n",
       "      <th>F</th>\n",
       "      <th>G</th>\n",
       "      <th>H</th>\n",
       "      <th>I</th>\n",
       "    </tr>\n",
       "    <tr>\n",
       "      <th>Date</th>\n",
       "      <th></th>\n",
       "      <th></th>\n",
       "      <th></th>\n",
       "      <th></th>\n",
       "      <th></th>\n",
       "      <th></th>\n",
       "      <th></th>\n",
       "      <th></th>\n",
       "      <th></th>\n",
       "    </tr>\n",
       "  </thead>\n",
       "  <tbody>\n",
       "    <tr>\n",
       "      <th>2012-06-15</th>\n",
       "      <td>6491</td>\n",
       "      <td>7104</td>\n",
       "      <td>7685</td>\n",
       "      <td>4999</td>\n",
       "      <td>NaN</td>\n",
       "      <td>4053</td>\n",
       "      <td>2293</td>\n",
       "      <td>2469</td>\n",
       "      <td>2756.0</td>\n",
       "    </tr>\n",
       "  </tbody>\n",
       "</table>\n",
       "</div>"
      ],
      "text/plain": [
       "               A     B     C     D   E     F     G     H       I\n",
       "Date                                                            \n",
       "2012-06-15  6491  7104  7685  4999 NaN  4053  2293  2469  2756.0"
      ]
     },
     "execution_count": 11,
     "metadata": {},
     "output_type": "execute_result"
    }
   ],
   "source": [
    "# Find the date where path D was used the most\n",
    "\n",
    "# first find the max of the D column\n",
    "max(df.D)\n",
    "\n",
    "# the subset the dataframe based on this max number\n",
    "df[ df.D == max(df.D)]\n",
    "\n",
    "# Therefore, the date this path was used the most was 06/15/2012"
   ]
  },
  {
   "cell_type": "markdown",
   "metadata": {},
   "source": [
    "## 1. Add a weekday column\n",
    "\n",
    "Last time we introduced how to add a column.  Suppose we wanted to add a weekday column to this dataset.  Since we have a timestamp datatype for the first column, we can extract lots of information from it"
   ]
  },
  {
   "cell_type": "code",
   "execution_count": 12,
   "metadata": {
    "collapsed": false
   },
   "outputs": [
    {
     "data": {
      "text/plain": [
       "DatetimeIndex(['2012-01-01', '2012-01-02', '2012-01-03', '2012-01-04',\n",
       "               '2012-01-05', '2012-01-06', '2012-01-07', '2012-01-08',\n",
       "               '2012-01-09', '2012-01-10',\n",
       "               ...\n",
       "               '2012-12-22', '2012-12-23', '2012-12-24', '2012-12-25',\n",
       "               '2012-12-26', '2012-12-27', '2012-12-28', '2012-12-29',\n",
       "               '2012-12-30', '2012-12-31'],\n",
       "              dtype='datetime64[ns]', name='Date', length=366, freq=None)"
      ]
     },
     "execution_count": 12,
     "metadata": {},
     "output_type": "execute_result"
    }
   ],
   "source": [
    "# Use the tab key to see all the information you can use from this:\n",
    "df.index"
   ]
  },
  {
   "cell_type": "code",
   "execution_count": 13,
   "metadata": {
    "collapsed": false
   },
   "outputs": [
    {
     "data": {
      "text/plain": [
       "array([ 1,  1,  1,  1,  1,  1,  1,  1,  1,  1,  1,  1,  1,  1,  1,  1,  1,\n",
       "        1,  1,  1,  1,  1,  1,  1,  1,  1,  1,  1,  1,  1,  1,  2,  2,  2,\n",
       "        2,  2,  2,  2,  2,  2,  2,  2,  2,  2,  2,  2,  2,  2,  2,  2,  2,\n",
       "        2,  2,  2,  2,  2,  2,  2,  2,  2,  3,  3,  3,  3,  3,  3,  3,  3,\n",
       "        3,  3,  3,  3,  3,  3,  3,  3,  3,  3,  3,  3,  3,  3,  3,  3,  3,\n",
       "        3,  3,  3,  3,  3,  3,  4,  4,  4,  4,  4,  4,  4,  4,  4,  4,  4,\n",
       "        4,  4,  4,  4,  4,  4,  4,  4,  4,  4,  4,  4,  4,  4,  4,  4,  4,\n",
       "        4,  4,  5,  5,  5,  5,  5,  5,  5,  5,  5,  5,  5,  5,  5,  5,  5,\n",
       "        5,  5,  5,  5,  5,  5,  5,  5,  5,  5,  5,  5,  5,  5,  5,  5,  6,\n",
       "        6,  6,  6,  6,  6,  6,  6,  6,  6,  6,  6,  6,  6,  6,  6,  6,  6,\n",
       "        6,  6,  6,  6,  6,  6,  6,  6,  6,  6,  6,  6,  7,  7,  7,  7,  7,\n",
       "        7,  7,  7,  7,  7,  7,  7,  7,  7,  7,  7,  7,  7,  7,  7,  7,  7,\n",
       "        7,  7,  7,  7,  7,  7,  7,  7,  7,  8,  8,  8,  8,  8,  8,  8,  8,\n",
       "        8,  8,  8,  8,  8,  8,  8,  8,  8,  8,  8,  8,  8,  8,  8,  8,  8,\n",
       "        8,  8,  8,  8,  8,  8,  9,  9,  9,  9,  9,  9,  9,  9,  9,  9,  9,\n",
       "        9,  9,  9,  9,  9,  9,  9,  9,  9,  9,  9,  9,  9,  9,  9,  9,  9,\n",
       "        9,  9, 10, 10, 10, 10, 10, 10, 10, 10, 10, 10, 10, 10, 10, 10, 10,\n",
       "       10, 10, 10, 10, 10, 10, 10, 10, 10, 10, 10, 10, 10, 10, 10, 10, 11,\n",
       "       11, 11, 11, 11, 11, 11, 11, 11, 11, 11, 11, 11, 11, 11, 11, 11, 11,\n",
       "       11, 11, 11, 11, 11, 11, 11, 11, 11, 11, 11, 11, 12, 12, 12, 12, 12,\n",
       "       12, 12, 12, 12, 12, 12, 12, 12, 12, 12, 12, 12, 12, 12, 12, 12, 12,\n",
       "       12, 12, 12, 12, 12, 12, 12, 12, 12])"
      ]
     },
     "execution_count": 13,
     "metadata": {},
     "output_type": "execute_result"
    }
   ],
   "source": [
    "# To get the month\n",
    "df.index.month"
   ]
  },
  {
   "cell_type": "code",
   "execution_count": 14,
   "metadata": {
    "collapsed": false
   },
   "outputs": [
    {
     "data": {
      "text/plain": [
       "array([ 1,  2,  3,  4,  5,  6,  7,  8,  9, 10, 11, 12, 13, 14, 15, 16, 17,\n",
       "       18, 19, 20, 21, 22, 23, 24, 25, 26, 27, 28, 29, 30, 31,  1,  2,  3,\n",
       "        4,  5,  6,  7,  8,  9, 10, 11, 12, 13, 14, 15, 16, 17, 18, 19, 20,\n",
       "       21, 22, 23, 24, 25, 26, 27, 28, 29,  1,  2,  3,  4,  5,  6,  7,  8,\n",
       "        9, 10, 11, 12, 13, 14, 15, 16, 17, 18, 19, 20, 21, 22, 23, 24, 25,\n",
       "       26, 27, 28, 29, 30, 31,  1,  2,  3,  4,  5,  6,  7,  8,  9, 10, 11,\n",
       "       12, 13, 14, 15, 16, 17, 18, 19, 20, 21, 22, 23, 24, 25, 26, 27, 28,\n",
       "       29, 30,  1,  2,  3,  4,  5,  6,  7,  8,  9, 10, 11, 12, 13, 14, 15,\n",
       "       16, 17, 18, 19, 20, 21, 22, 23, 24, 25, 26, 27, 28, 29, 30, 31,  1,\n",
       "        2,  3,  4,  5,  6,  7,  8,  9, 10, 11, 12, 13, 14, 15, 16, 17, 18,\n",
       "       19, 20, 21, 22, 23, 24, 25, 26, 27, 28, 29, 30,  1,  2,  3,  4,  5,\n",
       "        6,  7,  8,  9, 10, 11, 12, 13, 14, 15, 16, 17, 18, 19, 20, 21, 22,\n",
       "       23, 24, 25, 26, 27, 28, 29, 30, 31,  1,  2,  3,  4,  5,  6,  7,  8,\n",
       "        9, 10, 11, 12, 13, 14, 15, 16, 17, 18, 19, 20, 21, 22, 23, 24, 25,\n",
       "       26, 27, 28, 29, 30, 31,  1,  2,  3,  4,  5,  6,  7,  8,  9, 10, 11,\n",
       "       12, 13, 14, 15, 16, 17, 18, 19, 20, 21, 22, 23, 24, 25, 26, 27, 28,\n",
       "       29, 30,  1,  2,  3,  4,  5,  6,  7,  8,  9, 10, 11, 12, 13, 14, 15,\n",
       "       16, 17, 18, 19, 20, 21, 22, 23, 24, 25, 26, 27, 28, 29, 30, 31,  1,\n",
       "        2,  3,  4,  5,  6,  7,  8,  9, 10, 11, 12, 13, 14, 15, 16, 17, 18,\n",
       "       19, 20, 21, 22, 23, 24, 25, 26, 27, 28, 29, 30,  1,  2,  3,  4,  5,\n",
       "        6,  7,  8,  9, 10, 11, 12, 13, 14, 15, 16, 17, 18, 19, 20, 21, 22,\n",
       "       23, 24, 25, 26, 27, 28, 29, 30, 31])"
      ]
     },
     "execution_count": 14,
     "metadata": {},
     "output_type": "execute_result"
    }
   ],
   "source": [
    "# To get the day\n",
    "df.index.day"
   ]
  },
  {
   "cell_type": "code",
   "execution_count": 15,
   "metadata": {
    "collapsed": false
   },
   "outputs": [
    {
     "data": {
      "text/plain": [
       "array([6, 0, 1, 2, 3, 4, 5, 6, 0, 1, 2, 3, 4, 5, 6, 0, 1, 2, 3, 4, 5, 6, 0,\n",
       "       1, 2, 3, 4, 5, 6, 0, 1, 2, 3, 4, 5, 6, 0, 1, 2, 3, 4, 5, 6, 0, 1, 2,\n",
       "       3, 4, 5, 6, 0, 1, 2, 3, 4, 5, 6, 0, 1, 2, 3, 4, 5, 6, 0, 1, 2, 3, 4,\n",
       "       5, 6, 0, 1, 2, 3, 4, 5, 6, 0, 1, 2, 3, 4, 5, 6, 0, 1, 2, 3, 4, 5, 6,\n",
       "       0, 1, 2, 3, 4, 5, 6, 0, 1, 2, 3, 4, 5, 6, 0, 1, 2, 3, 4, 5, 6, 0, 1,\n",
       "       2, 3, 4, 5, 6, 0, 1, 2, 3, 4, 5, 6, 0, 1, 2, 3, 4, 5, 6, 0, 1, 2, 3,\n",
       "       4, 5, 6, 0, 1, 2, 3, 4, 5, 6, 0, 1, 2, 3, 4, 5, 6, 0, 1, 2, 3, 4, 5,\n",
       "       6, 0, 1, 2, 3, 4, 5, 6, 0, 1, 2, 3, 4, 5, 6, 0, 1, 2, 3, 4, 5, 6, 0,\n",
       "       1, 2, 3, 4, 5, 6, 0, 1, 2, 3, 4, 5, 6, 0, 1, 2, 3, 4, 5, 6, 0, 1, 2,\n",
       "       3, 4, 5, 6, 0, 1, 2, 3, 4, 5, 6, 0, 1, 2, 3, 4, 5, 6, 0, 1, 2, 3, 4,\n",
       "       5, 6, 0, 1, 2, 3, 4, 5, 6, 0, 1, 2, 3, 4, 5, 6, 0, 1, 2, 3, 4, 5, 6,\n",
       "       0, 1, 2, 3, 4, 5, 6, 0, 1, 2, 3, 4, 5, 6, 0, 1, 2, 3, 4, 5, 6, 0, 1,\n",
       "       2, 3, 4, 5, 6, 0, 1, 2, 3, 4, 5, 6, 0, 1, 2, 3, 4, 5, 6, 0, 1, 2, 3,\n",
       "       4, 5, 6, 0, 1, 2, 3, 4, 5, 6, 0, 1, 2, 3, 4, 5, 6, 0, 1, 2, 3, 4, 5,\n",
       "       6, 0, 1, 2, 3, 4, 5, 6, 0, 1, 2, 3, 4, 5, 6, 0, 1, 2, 3, 4, 5, 6, 0,\n",
       "       1, 2, 3, 4, 5, 6, 0, 1, 2, 3, 4, 5, 6, 0, 1, 2, 3, 4, 5, 6, 0])"
      ]
     },
     "execution_count": 15,
     "metadata": {},
     "output_type": "execute_result"
    }
   ],
   "source": [
    "# To get the weekday\n",
    "df.index.weekday"
   ]
  },
  {
   "cell_type": "code",
   "execution_count": 16,
   "metadata": {
    "collapsed": false
   },
   "outputs": [
    {
     "data": {
      "text/html": [
       "<div>\n",
       "<table border=\"1\" class=\"dataframe\">\n",
       "  <thead>\n",
       "    <tr style=\"text-align: right;\">\n",
       "      <th></th>\n",
       "      <th>A</th>\n",
       "      <th>B</th>\n",
       "      <th>C</th>\n",
       "      <th>D</th>\n",
       "      <th>E</th>\n",
       "      <th>F</th>\n",
       "      <th>G</th>\n",
       "      <th>H</th>\n",
       "      <th>I</th>\n",
       "      <th>Day</th>\n",
       "    </tr>\n",
       "    <tr>\n",
       "      <th>Date</th>\n",
       "      <th></th>\n",
       "      <th></th>\n",
       "      <th></th>\n",
       "      <th></th>\n",
       "      <th></th>\n",
       "      <th></th>\n",
       "      <th></th>\n",
       "      <th></th>\n",
       "      <th></th>\n",
       "      <th></th>\n",
       "    </tr>\n",
       "  </thead>\n",
       "  <tbody>\n",
       "    <tr>\n",
       "      <th>2012-01-01</th>\n",
       "      <td>16</td>\n",
       "      <td>35</td>\n",
       "      <td>51</td>\n",
       "      <td>38</td>\n",
       "      <td>5.0</td>\n",
       "      <td>26</td>\n",
       "      <td>10</td>\n",
       "      <td>0</td>\n",
       "      <td>27.0</td>\n",
       "      <td>6</td>\n",
       "    </tr>\n",
       "    <tr>\n",
       "      <th>2012-01-02</th>\n",
       "      <td>43</td>\n",
       "      <td>83</td>\n",
       "      <td>153</td>\n",
       "      <td>68</td>\n",
       "      <td>11.0</td>\n",
       "      <td>53</td>\n",
       "      <td>6</td>\n",
       "      <td>1</td>\n",
       "      <td>21.0</td>\n",
       "      <td>0</td>\n",
       "    </tr>\n",
       "    <tr>\n",
       "      <th>2012-01-03</th>\n",
       "      <td>58</td>\n",
       "      <td>135</td>\n",
       "      <td>248</td>\n",
       "      <td>104</td>\n",
       "      <td>2.0</td>\n",
       "      <td>89</td>\n",
       "      <td>3</td>\n",
       "      <td>2</td>\n",
       "      <td>15.0</td>\n",
       "      <td>1</td>\n",
       "    </tr>\n",
       "    <tr>\n",
       "      <th>2012-01-04</th>\n",
       "      <td>61</td>\n",
       "      <td>144</td>\n",
       "      <td>318</td>\n",
       "      <td>116</td>\n",
       "      <td>2.0</td>\n",
       "      <td>111</td>\n",
       "      <td>8</td>\n",
       "      <td>1</td>\n",
       "      <td>19.0</td>\n",
       "      <td>2</td>\n",
       "    </tr>\n",
       "    <tr>\n",
       "      <th>2012-01-05</th>\n",
       "      <td>95</td>\n",
       "      <td>197</td>\n",
       "      <td>330</td>\n",
       "      <td>124</td>\n",
       "      <td>6.0</td>\n",
       "      <td>97</td>\n",
       "      <td>13</td>\n",
       "      <td>2</td>\n",
       "      <td>16.0</td>\n",
       "      <td>3</td>\n",
       "    </tr>\n",
       "  </tbody>\n",
       "</table>\n",
       "</div>"
      ],
      "text/plain": [
       "             A    B    C    D     E    F   G  H     I  Day\n",
       "Date                                                      \n",
       "2012-01-01  16   35   51   38   5.0   26  10  0  27.0    6\n",
       "2012-01-02  43   83  153   68  11.0   53   6  1  21.0    0\n",
       "2012-01-03  58  135  248  104   2.0   89   3  2  15.0    1\n",
       "2012-01-04  61  144  318  116   2.0  111   8  1  19.0    2\n",
       "2012-01-05  95  197  330  124   6.0   97  13  2  16.0    3"
      ]
     },
     "execution_count": 16,
     "metadata": {},
     "output_type": "execute_result"
    }
   ],
   "source": [
    "df['Day'] = df.index.weekday\n",
    "df.head()"
   ]
  },
  {
   "cell_type": "markdown",
   "metadata": {},
   "source": [
    "## 2. Apply Method\n",
    "\n",
    "Suppose we wanted to translate these number days into the corresponding string.  We can apply a single function to an entire column."
   ]
  },
  {
   "cell_type": "code",
   "execution_count": 17,
   "metadata": {
    "collapsed": false
   },
   "outputs": [
    {
     "data": {
      "text/html": [
       "<div>\n",
       "<table border=\"1\" class=\"dataframe\">\n",
       "  <thead>\n",
       "    <tr style=\"text-align: right;\">\n",
       "      <th></th>\n",
       "      <th>A</th>\n",
       "      <th>B</th>\n",
       "      <th>C</th>\n",
       "      <th>D</th>\n",
       "      <th>E</th>\n",
       "      <th>F</th>\n",
       "      <th>G</th>\n",
       "      <th>H</th>\n",
       "      <th>I</th>\n",
       "      <th>Day</th>\n",
       "      <th>weekday</th>\n",
       "    </tr>\n",
       "    <tr>\n",
       "      <th>Date</th>\n",
       "      <th></th>\n",
       "      <th></th>\n",
       "      <th></th>\n",
       "      <th></th>\n",
       "      <th></th>\n",
       "      <th></th>\n",
       "      <th></th>\n",
       "      <th></th>\n",
       "      <th></th>\n",
       "      <th></th>\n",
       "      <th></th>\n",
       "    </tr>\n",
       "  </thead>\n",
       "  <tbody>\n",
       "    <tr>\n",
       "      <th>2012-01-01</th>\n",
       "      <td>16</td>\n",
       "      <td>35</td>\n",
       "      <td>51</td>\n",
       "      <td>38</td>\n",
       "      <td>5.0</td>\n",
       "      <td>26</td>\n",
       "      <td>10</td>\n",
       "      <td>0</td>\n",
       "      <td>27.0</td>\n",
       "      <td>6</td>\n",
       "      <td>Sunday</td>\n",
       "    </tr>\n",
       "    <tr>\n",
       "      <th>2012-01-02</th>\n",
       "      <td>43</td>\n",
       "      <td>83</td>\n",
       "      <td>153</td>\n",
       "      <td>68</td>\n",
       "      <td>11.0</td>\n",
       "      <td>53</td>\n",
       "      <td>6</td>\n",
       "      <td>1</td>\n",
       "      <td>21.0</td>\n",
       "      <td>0</td>\n",
       "      <td>Monday</td>\n",
       "    </tr>\n",
       "    <tr>\n",
       "      <th>2012-01-03</th>\n",
       "      <td>58</td>\n",
       "      <td>135</td>\n",
       "      <td>248</td>\n",
       "      <td>104</td>\n",
       "      <td>2.0</td>\n",
       "      <td>89</td>\n",
       "      <td>3</td>\n",
       "      <td>2</td>\n",
       "      <td>15.0</td>\n",
       "      <td>1</td>\n",
       "      <td>Tuesday</td>\n",
       "    </tr>\n",
       "    <tr>\n",
       "      <th>2012-01-04</th>\n",
       "      <td>61</td>\n",
       "      <td>144</td>\n",
       "      <td>318</td>\n",
       "      <td>116</td>\n",
       "      <td>2.0</td>\n",
       "      <td>111</td>\n",
       "      <td>8</td>\n",
       "      <td>1</td>\n",
       "      <td>19.0</td>\n",
       "      <td>2</td>\n",
       "      <td>Wednesday</td>\n",
       "    </tr>\n",
       "    <tr>\n",
       "      <th>2012-01-05</th>\n",
       "      <td>95</td>\n",
       "      <td>197</td>\n",
       "      <td>330</td>\n",
       "      <td>124</td>\n",
       "      <td>6.0</td>\n",
       "      <td>97</td>\n",
       "      <td>13</td>\n",
       "      <td>2</td>\n",
       "      <td>16.0</td>\n",
       "      <td>3</td>\n",
       "      <td>Thursday</td>\n",
       "    </tr>\n",
       "  </tbody>\n",
       "</table>\n",
       "</div>"
      ],
      "text/plain": [
       "             A    B    C    D     E    F   G  H     I  Day    weekday\n",
       "Date                                                                 \n",
       "2012-01-01  16   35   51   38   5.0   26  10  0  27.0    6     Sunday\n",
       "2012-01-02  43   83  153   68  11.0   53   6  1  21.0    0     Monday\n",
       "2012-01-03  58  135  248  104   2.0   89   3  2  15.0    1    Tuesday\n",
       "2012-01-04  61  144  318  116   2.0  111   8  1  19.0    2  Wednesday\n",
       "2012-01-05  95  197  330  124   6.0   97  13  2  16.0    3   Thursday"
      ]
     },
     "execution_count": 17,
     "metadata": {},
     "output_type": "execute_result"
    }
   ],
   "source": [
    "# Make a function\n",
    "def weekday(num):\n",
    "    days = ['Monday', 'Tuesday', 'Wednesday', 'Thursday', 'Friday', 'Saturday', 'Sunday']\n",
    "    return days[num]\n",
    "\n",
    "# Apply that function to every row in the dataframe\n",
    "df['weekday'] = df['Day'].apply(weekday)\n",
    "df.head()"
   ]
  },
  {
   "cell_type": "markdown",
   "metadata": {},
   "source": [
    "## 3. Groupby Method\n",
    "\n",
    "Let's create groups from the weekday column.  That is, let's group all the rows that are Sundays together, and so forth.  To do this, we can use the `groupby` method."
   ]
  },
  {
   "cell_type": "code",
   "execution_count": 18,
   "metadata": {
    "collapsed": false
   },
   "outputs": [
    {
     "data": {
      "text/plain": [
       "<pandas.core.groupby.DataFrameGroupBy object at 0x0000029CC9155C50>"
      ]
     },
     "execution_count": 18,
     "metadata": {},
     "output_type": "execute_result"
    }
   ],
   "source": [
    "weekday_df = df.groupby('weekday')\n",
    "weekday_df"
   ]
  },
  {
   "cell_type": "markdown",
   "metadata": {},
   "source": [
    "So that created some `DataFrameGroupBy` object.  That object has a `groups` method that will return a dictionary whose keys are the weekday and the value is a list of the indicies that are associated with that weekday."
   ]
  },
  {
   "cell_type": "code",
   "execution_count": 22,
   "metadata": {
    "collapsed": false
   },
   "outputs": [
    {
     "data": {
      "text/plain": [
       "[Timestamp('2012-01-06 00:00:00'),\n",
       " Timestamp('2012-01-13 00:00:00'),\n",
       " Timestamp('2012-01-20 00:00:00'),\n",
       " Timestamp('2012-01-27 00:00:00'),\n",
       " Timestamp('2012-02-03 00:00:00'),\n",
       " Timestamp('2012-02-10 00:00:00'),\n",
       " Timestamp('2012-02-17 00:00:00'),\n",
       " Timestamp('2012-02-24 00:00:00'),\n",
       " Timestamp('2012-03-02 00:00:00'),\n",
       " Timestamp('2012-03-09 00:00:00'),\n",
       " Timestamp('2012-03-16 00:00:00'),\n",
       " Timestamp('2012-03-23 00:00:00'),\n",
       " Timestamp('2012-03-30 00:00:00'),\n",
       " Timestamp('2012-04-06 00:00:00'),\n",
       " Timestamp('2012-04-13 00:00:00'),\n",
       " Timestamp('2012-04-20 00:00:00'),\n",
       " Timestamp('2012-04-27 00:00:00'),\n",
       " Timestamp('2012-05-04 00:00:00'),\n",
       " Timestamp('2012-05-11 00:00:00'),\n",
       " Timestamp('2012-05-18 00:00:00'),\n",
       " Timestamp('2012-05-25 00:00:00'),\n",
       " Timestamp('2012-06-01 00:00:00'),\n",
       " Timestamp('2012-06-08 00:00:00'),\n",
       " Timestamp('2012-06-15 00:00:00'),\n",
       " Timestamp('2012-06-22 00:00:00'),\n",
       " Timestamp('2012-06-29 00:00:00'),\n",
       " Timestamp('2012-07-06 00:00:00'),\n",
       " Timestamp('2012-07-13 00:00:00'),\n",
       " Timestamp('2012-07-20 00:00:00'),\n",
       " Timestamp('2012-07-27 00:00:00'),\n",
       " Timestamp('2012-08-03 00:00:00'),\n",
       " Timestamp('2012-08-10 00:00:00'),\n",
       " Timestamp('2012-08-17 00:00:00'),\n",
       " Timestamp('2012-08-24 00:00:00'),\n",
       " Timestamp('2012-08-31 00:00:00'),\n",
       " Timestamp('2012-09-07 00:00:00'),\n",
       " Timestamp('2012-09-14 00:00:00'),\n",
       " Timestamp('2012-09-21 00:00:00'),\n",
       " Timestamp('2012-09-28 00:00:00'),\n",
       " Timestamp('2012-10-05 00:00:00'),\n",
       " Timestamp('2012-10-12 00:00:00'),\n",
       " Timestamp('2012-10-19 00:00:00'),\n",
       " Timestamp('2012-10-26 00:00:00'),\n",
       " Timestamp('2012-11-02 00:00:00'),\n",
       " Timestamp('2012-11-09 00:00:00'),\n",
       " Timestamp('2012-11-16 00:00:00'),\n",
       " Timestamp('2012-11-23 00:00:00'),\n",
       " Timestamp('2012-11-30 00:00:00'),\n",
       " Timestamp('2012-12-07 00:00:00'),\n",
       " Timestamp('2012-12-14 00:00:00'),\n",
       " Timestamp('2012-12-21 00:00:00'),\n",
       " Timestamp('2012-12-28 00:00:00')]"
      ]
     },
     "execution_count": 22,
     "metadata": {},
     "output_type": "execute_result"
    }
   ],
   "source": [
    "weekday_df.groups"
   ]
  },
  {
   "cell_type": "code",
   "execution_count": 23,
   "metadata": {
    "collapsed": false
   },
   "outputs": [
    {
     "data": {
      "text/plain": [
       "weekday\n",
       "Friday       52\n",
       "Monday       53\n",
       "Saturday     52\n",
       "Sunday       53\n",
       "Thursday     52\n",
       "Tuesday      52\n",
       "Wednesday    52\n",
       "dtype: int64"
      ]
     },
     "execution_count": 23,
     "metadata": {},
     "output_type": "execute_result"
    }
   ],
   "source": [
    "# How many rows are in each group\n",
    "weekday_df.size()\n",
    "# This make sense because if you sum this up you get 366 rows (days)...since 2012 was a leap year, this seems correct"
   ]
  },
  {
   "cell_type": "markdown",
   "metadata": {},
   "source": [
    "## 4. Aggregate Method\n",
    "\n",
    "Now that we've grouped the data by weekday, let's see how many times each bike path was used, by the day of the week.  To do this we should use the aggregate method `aggregate` method (same as `agg` method)."
   ]
  },
  {
   "cell_type": "code",
   "execution_count": 24,
   "metadata": {
    "collapsed": false
   },
   "outputs": [
    {
     "data": {
      "text/html": [
       "<div>\n",
       "<table border=\"1\" class=\"dataframe\">\n",
       "  <thead>\n",
       "    <tr style=\"text-align: right;\">\n",
       "      <th></th>\n",
       "      <th>A</th>\n",
       "      <th>B</th>\n",
       "      <th>C</th>\n",
       "      <th>D</th>\n",
       "      <th>E</th>\n",
       "      <th>F</th>\n",
       "      <th>G</th>\n",
       "      <th>H</th>\n",
       "      <th>I</th>\n",
       "      <th>Day</th>\n",
       "    </tr>\n",
       "    <tr>\n",
       "      <th>weekday</th>\n",
       "      <th></th>\n",
       "      <th></th>\n",
       "      <th></th>\n",
       "      <th></th>\n",
       "      <th></th>\n",
       "      <th></th>\n",
       "      <th></th>\n",
       "      <th></th>\n",
       "      <th></th>\n",
       "      <th></th>\n",
       "    </tr>\n",
       "  </thead>\n",
       "  <tbody>\n",
       "    <tr>\n",
       "      <th>Friday</th>\n",
       "      <td>146979</td>\n",
       "      <td>150493</td>\n",
       "      <td>183961</td>\n",
       "      <td>104584</td>\n",
       "      <td>12259.0</td>\n",
       "      <td>96569</td>\n",
       "      <td>43217</td>\n",
       "      <td>59856</td>\n",
       "      <td>62164.0</td>\n",
       "      <td>208</td>\n",
       "    </tr>\n",
       "    <tr>\n",
       "      <th>Monday</th>\n",
       "      <td>138881</td>\n",
       "      <td>142285</td>\n",
       "      <td>174610</td>\n",
       "      <td>95565</td>\n",
       "      <td>15436.0</td>\n",
       "      <td>97001</td>\n",
       "      <td>47259</td>\n",
       "      <td>64011</td>\n",
       "      <td>74692.0</td>\n",
       "      <td>0</td>\n",
       "    </tr>\n",
       "    <tr>\n",
       "      <th>Saturday</th>\n",
       "      <td>118560</td>\n",
       "      <td>105635</td>\n",
       "      <td>109902</td>\n",
       "      <td>64872</td>\n",
       "      <td>11170.0</td>\n",
       "      <td>51019</td>\n",
       "      <td>53360</td>\n",
       "      <td>35507</td>\n",
       "      <td>54493.0</td>\n",
       "      <td>260</td>\n",
       "    </tr>\n",
       "    <tr>\n",
       "      <th>Sunday</th>\n",
       "      <td>122115</td>\n",
       "      <td>102447</td>\n",
       "      <td>102272</td>\n",
       "      <td>57438</td>\n",
       "      <td>12032.0</td>\n",
       "      <td>52419</td>\n",
       "      <td>62070</td>\n",
       "      <td>37867</td>\n",
       "      <td>84638.0</td>\n",
       "      <td>318</td>\n",
       "    </tr>\n",
       "    <tr>\n",
       "      <th>Thursday</th>\n",
       "      <td>150971</td>\n",
       "      <td>169976</td>\n",
       "      <td>210039</td>\n",
       "      <td>118633</td>\n",
       "      <td>15679.0</td>\n",
       "      <td>113675</td>\n",
       "      <td>46117</td>\n",
       "      <td>73215</td>\n",
       "      <td>62174.0</td>\n",
       "      <td>156</td>\n",
       "    </tr>\n",
       "    <tr>\n",
       "      <th>Tuesday</th>\n",
       "      <td>131632</td>\n",
       "      <td>145795</td>\n",
       "      <td>179939</td>\n",
       "      <td>99421</td>\n",
       "      <td>10629.0</td>\n",
       "      <td>100007</td>\n",
       "      <td>35901</td>\n",
       "      <td>63503</td>\n",
       "      <td>53552.0</td>\n",
       "      <td>52</td>\n",
       "    </tr>\n",
       "    <tr>\n",
       "      <th>Wednesday</th>\n",
       "      <td>144531</td>\n",
       "      <td>163603</td>\n",
       "      <td>200273</td>\n",
       "      <td>112344</td>\n",
       "      <td>14876.0</td>\n",
       "      <td>110820</td>\n",
       "      <td>44045</td>\n",
       "      <td>72047</td>\n",
       "      <td>63472.0</td>\n",
       "      <td>104</td>\n",
       "    </tr>\n",
       "  </tbody>\n",
       "</table>\n",
       "</div>"
      ],
      "text/plain": [
       "                A       B       C       D        E       F      G      H  \\\n",
       "weekday                                                                    \n",
       "Friday     146979  150493  183961  104584  12259.0   96569  43217  59856   \n",
       "Monday     138881  142285  174610   95565  15436.0   97001  47259  64011   \n",
       "Saturday   118560  105635  109902   64872  11170.0   51019  53360  35507   \n",
       "Sunday     122115  102447  102272   57438  12032.0   52419  62070  37867   \n",
       "Thursday   150971  169976  210039  118633  15679.0  113675  46117  73215   \n",
       "Tuesday    131632  145795  179939   99421  10629.0  100007  35901  63503   \n",
       "Wednesday  144531  163603  200273  112344  14876.0  110820  44045  72047   \n",
       "\n",
       "                 I  Day  \n",
       "weekday                  \n",
       "Friday     62164.0  208  \n",
       "Monday     74692.0    0  \n",
       "Saturday   54493.0  260  \n",
       "Sunday     84638.0  318  \n",
       "Thursday   62174.0  156  \n",
       "Tuesday    53552.0   52  \n",
       "Wednesday  63472.0  104  "
      ]
     },
     "execution_count": 24,
     "metadata": {},
     "output_type": "execute_result"
    }
   ],
   "source": [
    "# Total bike usage for each bike path, by day of the week\n",
    "weekday_counts = weekday_df.aggregate(sum)\n",
    "weekday_counts"
   ]
  },
  {
   "cell_type": "code",
   "execution_count": 25,
   "metadata": {
    "collapsed": false
   },
   "outputs": [
    {
     "data": {
      "text/html": [
       "<div>\n",
       "<table border=\"1\" class=\"dataframe\">\n",
       "  <thead>\n",
       "    <tr style=\"text-align: right;\">\n",
       "      <th></th>\n",
       "      <th>A</th>\n",
       "      <th>B</th>\n",
       "      <th>C</th>\n",
       "      <th>D</th>\n",
       "      <th>E</th>\n",
       "      <th>F</th>\n",
       "      <th>G</th>\n",
       "      <th>H</th>\n",
       "      <th>I</th>\n",
       "      <th>Day</th>\n",
       "    </tr>\n",
       "    <tr>\n",
       "      <th>weekday</th>\n",
       "      <th></th>\n",
       "      <th></th>\n",
       "      <th></th>\n",
       "      <th></th>\n",
       "      <th></th>\n",
       "      <th></th>\n",
       "      <th></th>\n",
       "      <th></th>\n",
       "      <th></th>\n",
       "      <th></th>\n",
       "    </tr>\n",
       "  </thead>\n",
       "  <tbody>\n",
       "    <tr>\n",
       "      <th>Monday</th>\n",
       "      <td>138881</td>\n",
       "      <td>142285</td>\n",
       "      <td>174610</td>\n",
       "      <td>95565</td>\n",
       "      <td>15436.0</td>\n",
       "      <td>97001</td>\n",
       "      <td>47259</td>\n",
       "      <td>64011</td>\n",
       "      <td>74692.0</td>\n",
       "      <td>0</td>\n",
       "    </tr>\n",
       "    <tr>\n",
       "      <th>Tuesday</th>\n",
       "      <td>131632</td>\n",
       "      <td>145795</td>\n",
       "      <td>179939</td>\n",
       "      <td>99421</td>\n",
       "      <td>10629.0</td>\n",
       "      <td>100007</td>\n",
       "      <td>35901</td>\n",
       "      <td>63503</td>\n",
       "      <td>53552.0</td>\n",
       "      <td>52</td>\n",
       "    </tr>\n",
       "    <tr>\n",
       "      <th>Wednesday</th>\n",
       "      <td>144531</td>\n",
       "      <td>163603</td>\n",
       "      <td>200273</td>\n",
       "      <td>112344</td>\n",
       "      <td>14876.0</td>\n",
       "      <td>110820</td>\n",
       "      <td>44045</td>\n",
       "      <td>72047</td>\n",
       "      <td>63472.0</td>\n",
       "      <td>104</td>\n",
       "    </tr>\n",
       "    <tr>\n",
       "      <th>Thursday</th>\n",
       "      <td>150971</td>\n",
       "      <td>169976</td>\n",
       "      <td>210039</td>\n",
       "      <td>118633</td>\n",
       "      <td>15679.0</td>\n",
       "      <td>113675</td>\n",
       "      <td>46117</td>\n",
       "      <td>73215</td>\n",
       "      <td>62174.0</td>\n",
       "      <td>156</td>\n",
       "    </tr>\n",
       "    <tr>\n",
       "      <th>Friday</th>\n",
       "      <td>146979</td>\n",
       "      <td>150493</td>\n",
       "      <td>183961</td>\n",
       "      <td>104584</td>\n",
       "      <td>12259.0</td>\n",
       "      <td>96569</td>\n",
       "      <td>43217</td>\n",
       "      <td>59856</td>\n",
       "      <td>62164.0</td>\n",
       "      <td>208</td>\n",
       "    </tr>\n",
       "    <tr>\n",
       "      <th>Saturday</th>\n",
       "      <td>118560</td>\n",
       "      <td>105635</td>\n",
       "      <td>109902</td>\n",
       "      <td>64872</td>\n",
       "      <td>11170.0</td>\n",
       "      <td>51019</td>\n",
       "      <td>53360</td>\n",
       "      <td>35507</td>\n",
       "      <td>54493.0</td>\n",
       "      <td>260</td>\n",
       "    </tr>\n",
       "    <tr>\n",
       "      <th>Sunday</th>\n",
       "      <td>122115</td>\n",
       "      <td>102447</td>\n",
       "      <td>102272</td>\n",
       "      <td>57438</td>\n",
       "      <td>12032.0</td>\n",
       "      <td>52419</td>\n",
       "      <td>62070</td>\n",
       "      <td>37867</td>\n",
       "      <td>84638.0</td>\n",
       "      <td>318</td>\n",
       "    </tr>\n",
       "  </tbody>\n",
       "</table>\n",
       "</div>"
      ],
      "text/plain": [
       "                A       B       C       D        E       F      G      H  \\\n",
       "weekday                                                                    \n",
       "Monday     138881  142285  174610   95565  15436.0   97001  47259  64011   \n",
       "Tuesday    131632  145795  179939   99421  10629.0  100007  35901  63503   \n",
       "Wednesday  144531  163603  200273  112344  14876.0  110820  44045  72047   \n",
       "Thursday   150971  169976  210039  118633  15679.0  113675  46117  73215   \n",
       "Friday     146979  150493  183961  104584  12259.0   96569  43217  59856   \n",
       "Saturday   118560  105635  109902   64872  11170.0   51019  53360  35507   \n",
       "Sunday     122115  102447  102272   57438  12032.0   52419  62070  37867   \n",
       "\n",
       "                 I  Day  \n",
       "weekday                  \n",
       "Monday     74692.0    0  \n",
       "Tuesday    53552.0   52  \n",
       "Wednesday  63472.0  104  \n",
       "Thursday   62174.0  156  \n",
       "Friday     62164.0  208  \n",
       "Saturday   54493.0  260  \n",
       "Sunday     84638.0  318  "
      ]
     },
     "execution_count": 25,
     "metadata": {},
     "output_type": "execute_result"
    }
   ],
   "source": [
    "# But I really don't like that the weekday is out of order because the graph will be harder to interpret\n",
    "weekday_counts = weekday_counts.reindex(['Monday', \"Tuesday\", \"Wednesday\", \"Thursday\", \"Friday\", \"Saturday\", \"Sunday\"])\n",
    "weekday_counts"
   ]
  },
  {
   "cell_type": "code",
   "execution_count": 26,
   "metadata": {
    "collapsed": false
   },
   "outputs": [
    {
     "data": {
      "text/html": [
       "<div>\n",
       "<table border=\"1\" class=\"dataframe\">\n",
       "  <thead>\n",
       "    <tr style=\"text-align: right;\">\n",
       "      <th></th>\n",
       "      <th>A</th>\n",
       "      <th>B</th>\n",
       "      <th>C</th>\n",
       "      <th>D</th>\n",
       "      <th>E</th>\n",
       "      <th>F</th>\n",
       "      <th>G</th>\n",
       "      <th>H</th>\n",
       "      <th>I</th>\n",
       "    </tr>\n",
       "    <tr>\n",
       "      <th>weekday</th>\n",
       "      <th></th>\n",
       "      <th></th>\n",
       "      <th></th>\n",
       "      <th></th>\n",
       "      <th></th>\n",
       "      <th></th>\n",
       "      <th></th>\n",
       "      <th></th>\n",
       "      <th></th>\n",
       "    </tr>\n",
       "  </thead>\n",
       "  <tbody>\n",
       "    <tr>\n",
       "      <th>Monday</th>\n",
       "      <td>138881</td>\n",
       "      <td>142285</td>\n",
       "      <td>174610</td>\n",
       "      <td>95565</td>\n",
       "      <td>15436.0</td>\n",
       "      <td>97001</td>\n",
       "      <td>47259</td>\n",
       "      <td>64011</td>\n",
       "      <td>74692.0</td>\n",
       "    </tr>\n",
       "    <tr>\n",
       "      <th>Tuesday</th>\n",
       "      <td>131632</td>\n",
       "      <td>145795</td>\n",
       "      <td>179939</td>\n",
       "      <td>99421</td>\n",
       "      <td>10629.0</td>\n",
       "      <td>100007</td>\n",
       "      <td>35901</td>\n",
       "      <td>63503</td>\n",
       "      <td>53552.0</td>\n",
       "    </tr>\n",
       "    <tr>\n",
       "      <th>Wednesday</th>\n",
       "      <td>144531</td>\n",
       "      <td>163603</td>\n",
       "      <td>200273</td>\n",
       "      <td>112344</td>\n",
       "      <td>14876.0</td>\n",
       "      <td>110820</td>\n",
       "      <td>44045</td>\n",
       "      <td>72047</td>\n",
       "      <td>63472.0</td>\n",
       "    </tr>\n",
       "    <tr>\n",
       "      <th>Thursday</th>\n",
       "      <td>150971</td>\n",
       "      <td>169976</td>\n",
       "      <td>210039</td>\n",
       "      <td>118633</td>\n",
       "      <td>15679.0</td>\n",
       "      <td>113675</td>\n",
       "      <td>46117</td>\n",
       "      <td>73215</td>\n",
       "      <td>62174.0</td>\n",
       "    </tr>\n",
       "    <tr>\n",
       "      <th>Friday</th>\n",
       "      <td>146979</td>\n",
       "      <td>150493</td>\n",
       "      <td>183961</td>\n",
       "      <td>104584</td>\n",
       "      <td>12259.0</td>\n",
       "      <td>96569</td>\n",
       "      <td>43217</td>\n",
       "      <td>59856</td>\n",
       "      <td>62164.0</td>\n",
       "    </tr>\n",
       "    <tr>\n",
       "      <th>Saturday</th>\n",
       "      <td>118560</td>\n",
       "      <td>105635</td>\n",
       "      <td>109902</td>\n",
       "      <td>64872</td>\n",
       "      <td>11170.0</td>\n",
       "      <td>51019</td>\n",
       "      <td>53360</td>\n",
       "      <td>35507</td>\n",
       "      <td>54493.0</td>\n",
       "    </tr>\n",
       "    <tr>\n",
       "      <th>Sunday</th>\n",
       "      <td>122115</td>\n",
       "      <td>102447</td>\n",
       "      <td>102272</td>\n",
       "      <td>57438</td>\n",
       "      <td>12032.0</td>\n",
       "      <td>52419</td>\n",
       "      <td>62070</td>\n",
       "      <td>37867</td>\n",
       "      <td>84638.0</td>\n",
       "    </tr>\n",
       "  </tbody>\n",
       "</table>\n",
       "</div>"
      ],
      "text/plain": [
       "                A       B       C       D        E       F      G      H  \\\n",
       "weekday                                                                    \n",
       "Monday     138881  142285  174610   95565  15436.0   97001  47259  64011   \n",
       "Tuesday    131632  145795  179939   99421  10629.0  100007  35901  63503   \n",
       "Wednesday  144531  163603  200273  112344  14876.0  110820  44045  72047   \n",
       "Thursday   150971  169976  210039  118633  15679.0  113675  46117  73215   \n",
       "Friday     146979  150493  183961  104584  12259.0   96569  43217  59856   \n",
       "Saturday   118560  105635  109902   64872  11170.0   51019  53360  35507   \n",
       "Sunday     122115  102447  102272   57438  12032.0   52419  62070  37867   \n",
       "\n",
       "                 I  \n",
       "weekday             \n",
       "Monday     74692.0  \n",
       "Tuesday    53552.0  \n",
       "Wednesday  63472.0  \n",
       "Thursday   62174.0  \n",
       "Friday     62164.0  \n",
       "Saturday   54493.0  \n",
       "Sunday     84638.0  "
      ]
     },
     "execution_count": 26,
     "metadata": {},
     "output_type": "execute_result"
    }
   ],
   "source": [
    "# And we don't want that day column\n",
    "weekday_counts.drop(\"Day\",1, inplace = True)\n",
    "weekday_counts"
   ]
  },
  {
   "cell_type": "code",
   "execution_count": 27,
   "metadata": {
    "collapsed": false
   },
   "outputs": [
    {
     "data": {
      "text/plain": [
       "<matplotlib.axes._subplots.AxesSubplot at 0x29cc9866ac8>"
      ]
     },
     "execution_count": 27,
     "metadata": {},
     "output_type": "execute_result"
    },
    {
     "data": {
      "image/png": "[encoded data removed]",
      "text/plain": [
       "<matplotlib.figure.Figure at 0x29cc985e0f0>"
      ]
     },
     "metadata": {},
     "output_type": "display_data"
    }
   ],
   "source": [
    "# Plot the total bike usage on bike path D, by day of the week\n",
    "weekday_counts.D.plot(kind = \"bar\")"
   ]
  },
  {
   "cell_type": "markdown",
   "metadata": {},
   "source": [
    "The numpy library offers a lot more summary statistics that may be of interest.  Typically when importing numpy we'll import as np for short.  Some functions offered in the numpy library can be found here:  \n",
    "\n",
    "https://docs.scipy.org/doc/numpy-1.13.0/reference/routines.statistics.html"
   ]
  },
  {
   "cell_type": "code",
   "execution_count": 28,
   "metadata": {
    "collapsed": false
   },
   "outputs": [
    {
     "data": {
      "text/html": [
       "<div>\n",
       "<table border=\"1\" class=\"dataframe\">\n",
       "  <thead>\n",
       "    <tr style=\"text-align: right;\">\n",
       "      <th></th>\n",
       "      <th>A</th>\n",
       "      <th>B</th>\n",
       "      <th>C</th>\n",
       "      <th>D</th>\n",
       "      <th>E</th>\n",
       "      <th>F</th>\n",
       "      <th>G</th>\n",
       "      <th>H</th>\n",
       "      <th>I</th>\n",
       "    </tr>\n",
       "    <tr>\n",
       "      <th>weekday</th>\n",
       "      <th></th>\n",
       "      <th></th>\n",
       "      <th></th>\n",
       "      <th></th>\n",
       "      <th></th>\n",
       "      <th></th>\n",
       "      <th></th>\n",
       "      <th></th>\n",
       "      <th></th>\n",
       "    </tr>\n",
       "  </thead>\n",
       "  <tbody>\n",
       "    <tr>\n",
       "      <th>Monday</th>\n",
       "      <td>2620.396226</td>\n",
       "      <td>2684.622642</td>\n",
       "      <td>3294.528302</td>\n",
       "      <td>1803.113208</td>\n",
       "      <td>735.047619</td>\n",
       "      <td>1830.207547</td>\n",
       "      <td>891.679245</td>\n",
       "      <td>1207.754717</td>\n",
       "      <td>1623.739130</td>\n",
       "    </tr>\n",
       "    <tr>\n",
       "      <th>Tuesday</th>\n",
       "      <td>2531.384615</td>\n",
       "      <td>2803.750000</td>\n",
       "      <td>3460.365385</td>\n",
       "      <td>1911.942308</td>\n",
       "      <td>506.142857</td>\n",
       "      <td>1923.211538</td>\n",
       "      <td>690.403846</td>\n",
       "      <td>1221.211538</td>\n",
       "      <td>1190.044444</td>\n",
       "    </tr>\n",
       "    <tr>\n",
       "      <th>Wednesday</th>\n",
       "      <td>2779.442308</td>\n",
       "      <td>3146.211538</td>\n",
       "      <td>3851.403846</td>\n",
       "      <td>2160.461538</td>\n",
       "      <td>708.380952</td>\n",
       "      <td>2131.153846</td>\n",
       "      <td>847.019231</td>\n",
       "      <td>1385.519231</td>\n",
       "      <td>1410.488889</td>\n",
       "    </tr>\n",
       "    <tr>\n",
       "      <th>Thursday</th>\n",
       "      <td>2903.288462</td>\n",
       "      <td>3268.769231</td>\n",
       "      <td>4039.211538</td>\n",
       "      <td>2281.403846</td>\n",
       "      <td>746.619048</td>\n",
       "      <td>2186.057692</td>\n",
       "      <td>886.865385</td>\n",
       "      <td>1407.980769</td>\n",
       "      <td>1381.644444</td>\n",
       "    </tr>\n",
       "    <tr>\n",
       "      <th>Friday</th>\n",
       "      <td>2826.519231</td>\n",
       "      <td>2894.096154</td>\n",
       "      <td>3537.711538</td>\n",
       "      <td>2011.230769</td>\n",
       "      <td>583.761905</td>\n",
       "      <td>1857.096154</td>\n",
       "      <td>831.096154</td>\n",
       "      <td>1151.076923</td>\n",
       "      <td>1381.422222</td>\n",
       "    </tr>\n",
       "    <tr>\n",
       "      <th>Saturday</th>\n",
       "      <td>2280.000000</td>\n",
       "      <td>2031.442308</td>\n",
       "      <td>2113.500000</td>\n",
       "      <td>1247.538462</td>\n",
       "      <td>558.500000</td>\n",
       "      <td>981.134615</td>\n",
       "      <td>1026.153846</td>\n",
       "      <td>682.826923</td>\n",
       "      <td>1210.955556</td>\n",
       "    </tr>\n",
       "    <tr>\n",
       "      <th>Sunday</th>\n",
       "      <td>2304.056604</td>\n",
       "      <td>1932.962264</td>\n",
       "      <td>1929.660377</td>\n",
       "      <td>1083.735849</td>\n",
       "      <td>572.952381</td>\n",
       "      <td>989.037736</td>\n",
       "      <td>1171.132075</td>\n",
       "      <td>714.471698</td>\n",
       "      <td>1839.956522</td>\n",
       "    </tr>\n",
       "  </tbody>\n",
       "</table>\n",
       "</div>"
      ],
      "text/plain": [
       "                     A            B            C            D           E  \\\n",
       "weekday                                                                     \n",
       "Monday     2620.396226  2684.622642  3294.528302  1803.113208  735.047619   \n",
       "Tuesday    2531.384615  2803.750000  3460.365385  1911.942308  506.142857   \n",
       "Wednesday  2779.442308  3146.211538  3851.403846  2160.461538  708.380952   \n",
       "Thursday   2903.288462  3268.769231  4039.211538  2281.403846  746.619048   \n",
       "Friday     2826.519231  2894.096154  3537.711538  2011.230769  583.761905   \n",
       "Saturday   2280.000000  2031.442308  2113.500000  1247.538462  558.500000   \n",
       "Sunday     2304.056604  1932.962264  1929.660377  1083.735849  572.952381   \n",
       "\n",
       "                     F            G            H            I  \n",
       "weekday                                                        \n",
       "Monday     1830.207547   891.679245  1207.754717  1623.739130  \n",
       "Tuesday    1923.211538   690.403846  1221.211538  1190.044444  \n",
       "Wednesday  2131.153846   847.019231  1385.519231  1410.488889  \n",
       "Thursday   2186.057692   886.865385  1407.980769  1381.644444  \n",
       "Friday     1857.096154   831.096154  1151.076923  1381.422222  \n",
       "Saturday    981.134615  1026.153846   682.826923  1210.955556  \n",
       "Sunday      989.037736  1171.132075   714.471698  1839.956522  "
      ]
     },
     "execution_count": 28,
     "metadata": {},
     "output_type": "execute_result"
    }
   ],
   "source": [
    "import numpy as np\n",
    "weekday_means = weekday_df.aggregate(np.mean)\n",
    "weekday_means = weekday_means.reindex(['Monday', \"Tuesday\", \"Wednesday\", \"Thursday\", \"Friday\", \"Saturday\", \"Sunday\"])\n",
    "weekday_means.drop(\"Day\",1, inplace = True)\n",
    "weekday_means"
   ]
  },
  {
   "cell_type": "markdown",
   "metadata": {},
   "source": [
    "## 5.  Summing across rows or columns\n",
    "\n",
    "Suppose we want to know 1) which bike path got used the most in 2012 and 2) which day of the week the bike paths are used most.  What do we want to do to answer each of these questions?\n",
    "\n",
    "1)  To answer which bike path got used the most in 2012, we need to sum the columns<br>\n",
    "2)  To answer which day of the week the bike paths are used the most, we need to sum the rows\n",
    "\n",
    "To do this, we can use the sum method.  You can read more about it here:  <br>https://pandas.pydata.org/pandas-docs/stable/generated/pandas.DataFrame.sum.html"
   ]
  },
  {
   "cell_type": "code",
   "execution_count": 29,
   "metadata": {
    "collapsed": false
   },
   "outputs": [
    {
     "data": {
      "text/html": [
       "<div>\n",
       "<table border=\"1\" class=\"dataframe\">\n",
       "  <thead>\n",
       "    <tr style=\"text-align: right;\">\n",
       "      <th></th>\n",
       "      <th>A</th>\n",
       "      <th>B</th>\n",
       "      <th>C</th>\n",
       "      <th>D</th>\n",
       "      <th>E</th>\n",
       "      <th>F</th>\n",
       "      <th>G</th>\n",
       "      <th>H</th>\n",
       "      <th>I</th>\n",
       "    </tr>\n",
       "    <tr>\n",
       "      <th>weekday</th>\n",
       "      <th></th>\n",
       "      <th></th>\n",
       "      <th></th>\n",
       "      <th></th>\n",
       "      <th></th>\n",
       "      <th></th>\n",
       "      <th></th>\n",
       "      <th></th>\n",
       "      <th></th>\n",
       "    </tr>\n",
       "  </thead>\n",
       "  <tbody>\n",
       "    <tr>\n",
       "      <th>Monday</th>\n",
       "      <td>138881</td>\n",
       "      <td>142285</td>\n",
       "      <td>174610</td>\n",
       "      <td>95565</td>\n",
       "      <td>15436.0</td>\n",
       "      <td>97001</td>\n",
       "      <td>47259</td>\n",
       "      <td>64011</td>\n",
       "      <td>74692.0</td>\n",
       "    </tr>\n",
       "    <tr>\n",
       "      <th>Tuesday</th>\n",
       "      <td>131632</td>\n",
       "      <td>145795</td>\n",
       "      <td>179939</td>\n",
       "      <td>99421</td>\n",
       "      <td>10629.0</td>\n",
       "      <td>100007</td>\n",
       "      <td>35901</td>\n",
       "      <td>63503</td>\n",
       "      <td>53552.0</td>\n",
       "    </tr>\n",
       "    <tr>\n",
       "      <th>Wednesday</th>\n",
       "      <td>144531</td>\n",
       "      <td>163603</td>\n",
       "      <td>200273</td>\n",
       "      <td>112344</td>\n",
       "      <td>14876.0</td>\n",
       "      <td>110820</td>\n",
       "      <td>44045</td>\n",
       "      <td>72047</td>\n",
       "      <td>63472.0</td>\n",
       "    </tr>\n",
       "    <tr>\n",
       "      <th>Thursday</th>\n",
       "      <td>150971</td>\n",
       "      <td>169976</td>\n",
       "      <td>210039</td>\n",
       "      <td>118633</td>\n",
       "      <td>15679.0</td>\n",
       "      <td>113675</td>\n",
       "      <td>46117</td>\n",
       "      <td>73215</td>\n",
       "      <td>62174.0</td>\n",
       "    </tr>\n",
       "    <tr>\n",
       "      <th>Friday</th>\n",
       "      <td>146979</td>\n",
       "      <td>150493</td>\n",
       "      <td>183961</td>\n",
       "      <td>104584</td>\n",
       "      <td>12259.0</td>\n",
       "      <td>96569</td>\n",
       "      <td>43217</td>\n",
       "      <td>59856</td>\n",
       "      <td>62164.0</td>\n",
       "    </tr>\n",
       "    <tr>\n",
       "      <th>Saturday</th>\n",
       "      <td>118560</td>\n",
       "      <td>105635</td>\n",
       "      <td>109902</td>\n",
       "      <td>64872</td>\n",
       "      <td>11170.0</td>\n",
       "      <td>51019</td>\n",
       "      <td>53360</td>\n",
       "      <td>35507</td>\n",
       "      <td>54493.0</td>\n",
       "    </tr>\n",
       "    <tr>\n",
       "      <th>Sunday</th>\n",
       "      <td>122115</td>\n",
       "      <td>102447</td>\n",
       "      <td>102272</td>\n",
       "      <td>57438</td>\n",
       "      <td>12032.0</td>\n",
       "      <td>52419</td>\n",
       "      <td>62070</td>\n",
       "      <td>37867</td>\n",
       "      <td>84638.0</td>\n",
       "    </tr>\n",
       "  </tbody>\n",
       "</table>\n",
       "</div>"
      ],
      "text/plain": [
       "                A       B       C       D        E       F      G      H  \\\n",
       "weekday                                                                    \n",
       "Monday     138881  142285  174610   95565  15436.0   97001  47259  64011   \n",
       "Tuesday    131632  145795  179939   99421  10629.0  100007  35901  63503   \n",
       "Wednesday  144531  163603  200273  112344  14876.0  110820  44045  72047   \n",
       "Thursday   150971  169976  210039  118633  15679.0  113675  46117  73215   \n",
       "Friday     146979  150493  183961  104584  12259.0   96569  43217  59856   \n",
       "Saturday   118560  105635  109902   64872  11170.0   51019  53360  35507   \n",
       "Sunday     122115  102447  102272   57438  12032.0   52419  62070  37867   \n",
       "\n",
       "                 I  \n",
       "weekday             \n",
       "Monday     74692.0  \n",
       "Tuesday    53552.0  \n",
       "Wednesday  63472.0  \n",
       "Thursday   62174.0  \n",
       "Friday     62164.0  \n",
       "Saturday   54493.0  \n",
       "Sunday     84638.0  "
      ]
     },
     "execution_count": 29,
     "metadata": {},
     "output_type": "execute_result"
    }
   ],
   "source": [
    "#Let's look at the data again\n",
    "weekday_counts"
   ]
  },
  {
   "cell_type": "code",
   "execution_count": 30,
   "metadata": {
    "collapsed": true
   },
   "outputs": [],
   "source": [
    "# Let's take a look at the .sum method\n",
    "?weekday_counts.sum\n",
    "#...so axis will allow us to specify if we want to sum across rows or columns."
   ]
  },
  {
   "cell_type": "markdown",
   "metadata": {},
   "source": [
    "To clear up axis = 0 versus axis = 1, you can read this: <br>\n",
    "https://stackoverflow.com/questions/25773245/ambiguity-in-pandas-dataframe-numpy-array-axis-definition <br>"
   ]
  },
  {
   "cell_type": "code",
   "execution_count": 32,
   "metadata": {
    "collapsed": false
   },
   "outputs": [
    {
     "data": {
      "image/jpeg": "[encoded data removed]",
      "text/plain": [
       "<IPython.core.display.Image object>"
      ]
     },
     "execution_count": 32,
     "metadata": {},
     "output_type": "execute_result"
    }
   ],
   "source": [
    "from IPython.display import Image\n",
    "Image(filename='axis.jpg')"
   ]
  },
  {
   "cell_type": "code",
   "execution_count": 33,
   "metadata": {
    "collapsed": false
   },
   "outputs": [
    {
     "data": {
      "text/plain": [
       "A     953669.0\n",
       "B     980234.0\n",
       "C    1160996.0\n",
       "D     652857.0\n",
       "E      92081.0\n",
       "F     621510.0\n",
       "G     331969.0\n",
       "H     406006.0\n",
       "I     455185.0\n",
       "dtype: float64"
      ]
     },
     "execution_count": 33,
     "metadata": {},
     "output_type": "execute_result"
    }
   ],
   "source": [
    "# To sum down the columns, use the axis = 0\n",
    "weekday_counts.sum(0)"
   ]
  },
  {
   "cell_type": "code",
   "execution_count": 35,
   "metadata": {
    "collapsed": false
   },
   "outputs": [
    {
     "data": {
      "text/plain": [
       "<matplotlib.axes._subplots.AxesSubplot at 0x29cc996f5c0>"
      ]
     },
     "execution_count": 35,
     "metadata": {},
     "output_type": "execute_result"
    },
    {
     "data": {
      "image/png": "[encoded data removed]",
      "text/plain": [
       "<matplotlib.figure.Figure at 0x29cc997b198>"
      ]
     },
     "metadata": {},
     "output_type": "display_data"
    }
   ],
   "source": [
    "weekday_counts.sum(0).plot(kind = \"bar\")"
   ]
  },
  {
   "cell_type": "code",
   "execution_count": 36,
   "metadata": {
    "collapsed": false
   },
   "outputs": [
    {
     "data": {
      "text/plain": [
       "weekday\n",
       "Monday       849740.0\n",
       "Tuesday      820379.0\n",
       "Wednesday    926011.0\n",
       "Thursday     960479.0\n",
       "Friday       860082.0\n",
       "Saturday     604518.0\n",
       "Sunday       633298.0\n",
       "dtype: float64"
      ]
     },
     "execution_count": 36,
     "metadata": {},
     "output_type": "execute_result"
    }
   ],
   "source": [
    "# To sum across the rows, use the axis = 1\n",
    "weekday_counts.sum(1)"
   ]
  },
  {
   "cell_type": "code",
   "execution_count": 37,
   "metadata": {
    "collapsed": false
   },
   "outputs": [
    {
     "data": {
      "text/plain": [
       "<matplotlib.axes._subplots.AxesSubplot at 0x29cc99a50f0>"
      ]
     },
     "execution_count": 37,
     "metadata": {},
     "output_type": "execute_result"
    },
    {
     "data": {
      "image/png": "[encoded data removed]",
      "text/plain": [
       "<matplotlib.figure.Figure at 0x29cc99effd0>"
      ]
     },
     "metadata": {},
     "output_type": "display_data"
    }
   ],
   "source": [
    "weekday_counts.sum(1).plot(kind = \"bar\")"
   ]
  },
  {
   "cell_type": "markdown",
   "metadata": {},
   "source": [
    "## You try"
   ]
  },
  {
   "cell_type": "markdown",
   "metadata": {},
   "source": [
    "What month does path D get used most?"
   ]
  },
  {
   "cell_type": "code",
   "execution_count": 38,
   "metadata": {
    "collapsed": false
   },
   "outputs": [
    {
     "data": {
      "text/html": [
       "<div>\n",
       "<table border=\"1\" class=\"dataframe\">\n",
       "  <thead>\n",
       "    <tr style=\"text-align: right;\">\n",
       "      <th></th>\n",
       "      <th>A</th>\n",
       "      <th>B</th>\n",
       "      <th>C</th>\n",
       "      <th>D</th>\n",
       "      <th>E</th>\n",
       "      <th>F</th>\n",
       "      <th>G</th>\n",
       "      <th>H</th>\n",
       "      <th>I</th>\n",
       "      <th>Day</th>\n",
       "      <th>weekday</th>\n",
       "      <th>Month</th>\n",
       "    </tr>\n",
       "    <tr>\n",
       "      <th>Date</th>\n",
       "      <th></th>\n",
       "      <th></th>\n",
       "      <th></th>\n",
       "      <th></th>\n",
       "      <th></th>\n",
       "      <th></th>\n",
       "      <th></th>\n",
       "      <th></th>\n",
       "      <th></th>\n",
       "      <th></th>\n",
       "      <th></th>\n",
       "      <th></th>\n",
       "    </tr>\n",
       "  </thead>\n",
       "  <tbody>\n",
       "    <tr>\n",
       "      <th>2012-01-01</th>\n",
       "      <td>16</td>\n",
       "      <td>35</td>\n",
       "      <td>51</td>\n",
       "      <td>38</td>\n",
       "      <td>5.0</td>\n",
       "      <td>26</td>\n",
       "      <td>10</td>\n",
       "      <td>0</td>\n",
       "      <td>27.0</td>\n",
       "      <td>6</td>\n",
       "      <td>Sunday</td>\n",
       "      <td>1</td>\n",
       "    </tr>\n",
       "    <tr>\n",
       "      <th>2012-01-02</th>\n",
       "      <td>43</td>\n",
       "      <td>83</td>\n",
       "      <td>153</td>\n",
       "      <td>68</td>\n",
       "      <td>11.0</td>\n",
       "      <td>53</td>\n",
       "      <td>6</td>\n",
       "      <td>1</td>\n",
       "      <td>21.0</td>\n",
       "      <td>0</td>\n",
       "      <td>Monday</td>\n",
       "      <td>1</td>\n",
       "    </tr>\n",
       "    <tr>\n",
       "      <th>2012-01-03</th>\n",
       "      <td>58</td>\n",
       "      <td>135</td>\n",
       "      <td>248</td>\n",
       "      <td>104</td>\n",
       "      <td>2.0</td>\n",
       "      <td>89</td>\n",
       "      <td>3</td>\n",
       "      <td>2</td>\n",
       "      <td>15.0</td>\n",
       "      <td>1</td>\n",
       "      <td>Tuesday</td>\n",
       "      <td>1</td>\n",
       "    </tr>\n",
       "    <tr>\n",
       "      <th>2012-01-04</th>\n",
       "      <td>61</td>\n",
       "      <td>144</td>\n",
       "      <td>318</td>\n",
       "      <td>116</td>\n",
       "      <td>2.0</td>\n",
       "      <td>111</td>\n",
       "      <td>8</td>\n",
       "      <td>1</td>\n",
       "      <td>19.0</td>\n",
       "      <td>2</td>\n",
       "      <td>Wednesday</td>\n",
       "      <td>1</td>\n",
       "    </tr>\n",
       "    <tr>\n",
       "      <th>2012-01-05</th>\n",
       "      <td>95</td>\n",
       "      <td>197</td>\n",
       "      <td>330</td>\n",
       "      <td>124</td>\n",
       "      <td>6.0</td>\n",
       "      <td>97</td>\n",
       "      <td>13</td>\n",
       "      <td>2</td>\n",
       "      <td>16.0</td>\n",
       "      <td>3</td>\n",
       "      <td>Thursday</td>\n",
       "      <td>1</td>\n",
       "    </tr>\n",
       "  </tbody>\n",
       "</table>\n",
       "</div>"
      ],
      "text/plain": [
       "             A    B    C    D     E    F   G  H     I  Day    weekday  Month\n",
       "Date                                                                        \n",
       "2012-01-01  16   35   51   38   5.0   26  10  0  27.0    6     Sunday      1\n",
       "2012-01-02  43   83  153   68  11.0   53   6  1  21.0    0     Monday      1\n",
       "2012-01-03  58  135  248  104   2.0   89   3  2  15.0    1    Tuesday      1\n",
       "2012-01-04  61  144  318  116   2.0  111   8  1  19.0    2  Wednesday      1\n",
       "2012-01-05  95  197  330  124   6.0   97  13  2  16.0    3   Thursday      1"
      ]
     },
     "execution_count": 38,
     "metadata": {},
     "output_type": "execute_result"
    }
   ],
   "source": [
    "df[\"Month\"] = df.index.month\n",
    "df.head()"
   ]
  },
  {
   "cell_type": "code",
   "execution_count": 39,
   "metadata": {
    "collapsed": false
   },
   "outputs": [
    {
     "data": {
      "text/html": [
       "<div>\n",
       "<table border=\"1\" class=\"dataframe\">\n",
       "  <thead>\n",
       "    <tr style=\"text-align: right;\">\n",
       "      <th></th>\n",
       "      <th>A</th>\n",
       "      <th>B</th>\n",
       "      <th>C</th>\n",
       "      <th>D</th>\n",
       "      <th>E</th>\n",
       "      <th>F</th>\n",
       "      <th>G</th>\n",
       "      <th>H</th>\n",
       "      <th>I</th>\n",
       "      <th>Day</th>\n",
       "      <th>weekday</th>\n",
       "      <th>Month</th>\n",
       "      <th>Month_Name</th>\n",
       "    </tr>\n",
       "    <tr>\n",
       "      <th>Date</th>\n",
       "      <th></th>\n",
       "      <th></th>\n",
       "      <th></th>\n",
       "      <th></th>\n",
       "      <th></th>\n",
       "      <th></th>\n",
       "      <th></th>\n",
       "      <th></th>\n",
       "      <th></th>\n",
       "      <th></th>\n",
       "      <th></th>\n",
       "      <th></th>\n",
       "      <th></th>\n",
       "    </tr>\n",
       "  </thead>\n",
       "  <tbody>\n",
       "    <tr>\n",
       "      <th>2012-01-01</th>\n",
       "      <td>16</td>\n",
       "      <td>35</td>\n",
       "      <td>51</td>\n",
       "      <td>38</td>\n",
       "      <td>5.0</td>\n",
       "      <td>26</td>\n",
       "      <td>10</td>\n",
       "      <td>0</td>\n",
       "      <td>27.0</td>\n",
       "      <td>6</td>\n",
       "      <td>Sunday</td>\n",
       "      <td>1</td>\n",
       "      <td>Jan</td>\n",
       "    </tr>\n",
       "    <tr>\n",
       "      <th>2012-01-02</th>\n",
       "      <td>43</td>\n",
       "      <td>83</td>\n",
       "      <td>153</td>\n",
       "      <td>68</td>\n",
       "      <td>11.0</td>\n",
       "      <td>53</td>\n",
       "      <td>6</td>\n",
       "      <td>1</td>\n",
       "      <td>21.0</td>\n",
       "      <td>0</td>\n",
       "      <td>Monday</td>\n",
       "      <td>1</td>\n",
       "      <td>Jan</td>\n",
       "    </tr>\n",
       "    <tr>\n",
       "      <th>2012-01-03</th>\n",
       "      <td>58</td>\n",
       "      <td>135</td>\n",
       "      <td>248</td>\n",
       "      <td>104</td>\n",
       "      <td>2.0</td>\n",
       "      <td>89</td>\n",
       "      <td>3</td>\n",
       "      <td>2</td>\n",
       "      <td>15.0</td>\n",
       "      <td>1</td>\n",
       "      <td>Tuesday</td>\n",
       "      <td>1</td>\n",
       "      <td>Jan</td>\n",
       "    </tr>\n",
       "    <tr>\n",
       "      <th>2012-01-04</th>\n",
       "      <td>61</td>\n",
       "      <td>144</td>\n",
       "      <td>318</td>\n",
       "      <td>116</td>\n",
       "      <td>2.0</td>\n",
       "      <td>111</td>\n",
       "      <td>8</td>\n",
       "      <td>1</td>\n",
       "      <td>19.0</td>\n",
       "      <td>2</td>\n",
       "      <td>Wednesday</td>\n",
       "      <td>1</td>\n",
       "      <td>Jan</td>\n",
       "    </tr>\n",
       "    <tr>\n",
       "      <th>2012-01-05</th>\n",
       "      <td>95</td>\n",
       "      <td>197</td>\n",
       "      <td>330</td>\n",
       "      <td>124</td>\n",
       "      <td>6.0</td>\n",
       "      <td>97</td>\n",
       "      <td>13</td>\n",
       "      <td>2</td>\n",
       "      <td>16.0</td>\n",
       "      <td>3</td>\n",
       "      <td>Thursday</td>\n",
       "      <td>1</td>\n",
       "      <td>Jan</td>\n",
       "    </tr>\n",
       "  </tbody>\n",
       "</table>\n",
       "</div>"
      ],
      "text/plain": [
       "             A    B    C    D     E    F   G  H     I  Day    weekday  Month  \\\n",
       "Date                                                                           \n",
       "2012-01-01  16   35   51   38   5.0   26  10  0  27.0    6     Sunday      1   \n",
       "2012-01-02  43   83  153   68  11.0   53   6  1  21.0    0     Monday      1   \n",
       "2012-01-03  58  135  248  104   2.0   89   3  2  15.0    1    Tuesday      1   \n",
       "2012-01-04  61  144  318  116   2.0  111   8  1  19.0    2  Wednesday      1   \n",
       "2012-01-05  95  197  330  124   6.0   97  13  2  16.0    3   Thursday      1   \n",
       "\n",
       "           Month_Name  \n",
       "Date                   \n",
       "2012-01-01        Jan  \n",
       "2012-01-02        Jan  \n",
       "2012-01-03        Jan  \n",
       "2012-01-04        Jan  \n",
       "2012-01-05        Jan  "
      ]
     },
     "execution_count": 39,
     "metadata": {},
     "output_type": "execute_result"
    }
   ],
   "source": [
    "# Make a function\n",
    "def month(num):\n",
    "    months = ['Jan', 'Feb', 'Mar', 'Apr', 'May', 'Jun', 'Jul', 'Aug', 'Sep', 'Oct', 'Nov', 'Dec']\n",
    "    return months[num-1]\n",
    "\n",
    "df['Month_Name'] = df.Month.apply(month)\n",
    "df.head()"
   ]
  },
  {
   "cell_type": "code",
   "execution_count": 40,
   "metadata": {
    "collapsed": false
   },
   "outputs": [
    {
     "data": {
      "text/html": [
       "<div>\n",
       "<table border=\"1\" class=\"dataframe\">\n",
       "  <thead>\n",
       "    <tr style=\"text-align: right;\">\n",
       "      <th></th>\n",
       "      <th>A</th>\n",
       "      <th>B</th>\n",
       "      <th>C</th>\n",
       "      <th>D</th>\n",
       "      <th>E</th>\n",
       "      <th>F</th>\n",
       "      <th>G</th>\n",
       "      <th>H</th>\n",
       "      <th>I</th>\n",
       "    </tr>\n",
       "    <tr>\n",
       "      <th>Month_Name</th>\n",
       "      <th></th>\n",
       "      <th></th>\n",
       "      <th></th>\n",
       "      <th></th>\n",
       "      <th></th>\n",
       "      <th></th>\n",
       "      <th></th>\n",
       "      <th></th>\n",
       "      <th></th>\n",
       "    </tr>\n",
       "  </thead>\n",
       "  <tbody>\n",
       "    <tr>\n",
       "      <th>Jan</th>\n",
       "      <td>1140</td>\n",
       "      <td>4915</td>\n",
       "      <td>7737</td>\n",
       "      <td>3308</td>\n",
       "      <td>255.0</td>\n",
       "      <td>3088</td>\n",
       "      <td>160</td>\n",
       "      <td>38</td>\n",
       "      <td>719.0</td>\n",
       "    </tr>\n",
       "    <tr>\n",
       "      <th>Feb</th>\n",
       "      <td>73</td>\n",
       "      <td>6712</td>\n",
       "      <td>10226</td>\n",
       "      <td>4573</td>\n",
       "      <td>273.0</td>\n",
       "      <td>4852</td>\n",
       "      <td>240</td>\n",
       "      <td>51</td>\n",
       "      <td>594.0</td>\n",
       "    </tr>\n",
       "    <tr>\n",
       "      <th>Mar</th>\n",
       "      <td>26437</td>\n",
       "      <td>26229</td>\n",
       "      <td>35736</td>\n",
       "      <td>18194</td>\n",
       "      <td>2082.0</td>\n",
       "      <td>21487</td>\n",
       "      <td>6634</td>\n",
       "      <td>11388</td>\n",
       "      <td>47199.0</td>\n",
       "    </tr>\n",
       "    <tr>\n",
       "      <th>Apr</th>\n",
       "      <td>71759</td>\n",
       "      <td>67699</td>\n",
       "      <td>85786</td>\n",
       "      <td>49312</td>\n",
       "      <td>36455.0</td>\n",
       "      <td>46048</td>\n",
       "      <td>16195</td>\n",
       "      <td>29137</td>\n",
       "      <td>29452.0</td>\n",
       "    </tr>\n",
       "    <tr>\n",
       "      <th>May</th>\n",
       "      <td>129590</td>\n",
       "      <td>133277</td>\n",
       "      <td>154562</td>\n",
       "      <td>94224</td>\n",
       "      <td>53016.0</td>\n",
       "      <td>78355</td>\n",
       "      <td>50130</td>\n",
       "      <td>54360</td>\n",
       "      <td>65180.0</td>\n",
       "    </tr>\n",
       "    <tr>\n",
       "      <th>Jun</th>\n",
       "      <td>146530</td>\n",
       "      <td>144858</td>\n",
       "      <td>169241</td>\n",
       "      <td>95213</td>\n",
       "      <td>NaN</td>\n",
       "      <td>86190</td>\n",
       "      <td>53043</td>\n",
       "      <td>58826</td>\n",
       "      <td>74901.0</td>\n",
       "    </tr>\n",
       "    <tr>\n",
       "      <th>Jul</th>\n",
       "      <td>150703</td>\n",
       "      <td>162530</td>\n",
       "      <td>182644</td>\n",
       "      <td>101969</td>\n",
       "      <td>NaN</td>\n",
       "      <td>88010</td>\n",
       "      <td>80033</td>\n",
       "      <td>59657</td>\n",
       "      <td>81238.0</td>\n",
       "    </tr>\n",
       "    <tr>\n",
       "      <th>Aug</th>\n",
       "      <td>137377</td>\n",
       "      <td>149241</td>\n",
       "      <td>168572</td>\n",
       "      <td>95110</td>\n",
       "      <td>NaN</td>\n",
       "      <td>84261</td>\n",
       "      <td>57583</td>\n",
       "      <td>61589</td>\n",
       "      <td>82530.0</td>\n",
       "    </tr>\n",
       "    <tr>\n",
       "      <th>Sep</th>\n",
       "      <td>123757</td>\n",
       "      <td>127024</td>\n",
       "      <td>147243</td>\n",
       "      <td>83540</td>\n",
       "      <td>NaN</td>\n",
       "      <td>86611</td>\n",
       "      <td>42328</td>\n",
       "      <td>57986</td>\n",
       "      <td>59549.0</td>\n",
       "    </tr>\n",
       "    <tr>\n",
       "      <th>Oct</th>\n",
       "      <td>93959</td>\n",
       "      <td>94797</td>\n",
       "      <td>115374</td>\n",
       "      <td>63551</td>\n",
       "      <td>NaN</td>\n",
       "      <td>71607</td>\n",
       "      <td>19746</td>\n",
       "      <td>45366</td>\n",
       "      <td>13823.0</td>\n",
       "    </tr>\n",
       "    <tr>\n",
       "      <th>Nov</th>\n",
       "      <td>57334</td>\n",
       "      <td>50294</td>\n",
       "      <td>67558</td>\n",
       "      <td>35709</td>\n",
       "      <td>NaN</td>\n",
       "      <td>42151</td>\n",
       "      <td>5150</td>\n",
       "      <td>24172</td>\n",
       "      <td>0.0</td>\n",
       "    </tr>\n",
       "    <tr>\n",
       "      <th>Dec</th>\n",
       "      <td>15010</td>\n",
       "      <td>12658</td>\n",
       "      <td>16317</td>\n",
       "      <td>8154</td>\n",
       "      <td>NaN</td>\n",
       "      <td>8850</td>\n",
       "      <td>727</td>\n",
       "      <td>3436</td>\n",
       "      <td>NaN</td>\n",
       "    </tr>\n",
       "  </tbody>\n",
       "</table>\n",
       "</div>"
      ],
      "text/plain": [
       "                 A       B       C       D        E      F      G      H  \\\n",
       "Month_Name                                                                 \n",
       "Jan           1140    4915    7737    3308    255.0   3088    160     38   \n",
       "Feb             73    6712   10226    4573    273.0   4852    240     51   \n",
       "Mar          26437   26229   35736   18194   2082.0  21487   6634  11388   \n",
       "Apr          71759   67699   85786   49312  36455.0  46048  16195  29137   \n",
       "May         129590  133277  154562   94224  53016.0  78355  50130  54360   \n",
       "Jun         146530  144858  169241   95213      NaN  86190  53043  58826   \n",
       "Jul         150703  162530  182644  101969      NaN  88010  80033  59657   \n",
       "Aug         137377  149241  168572   95110      NaN  84261  57583  61589   \n",
       "Sep         123757  127024  147243   83540      NaN  86611  42328  57986   \n",
       "Oct          93959   94797  115374   63551      NaN  71607  19746  45366   \n",
       "Nov          57334   50294   67558   35709      NaN  42151   5150  24172   \n",
       "Dec          15010   12658   16317    8154      NaN   8850    727   3436   \n",
       "\n",
       "                  I  \n",
       "Month_Name           \n",
       "Jan           719.0  \n",
       "Feb           594.0  \n",
       "Mar         47199.0  \n",
       "Apr         29452.0  \n",
       "May         65180.0  \n",
       "Jun         74901.0  \n",
       "Jul         81238.0  \n",
       "Aug         82530.0  \n",
       "Sep         59549.0  \n",
       "Oct         13823.0  \n",
       "Nov             0.0  \n",
       "Dec             NaN  "
      ]
     },
     "execution_count": 40,
     "metadata": {},
     "output_type": "execute_result"
    }
   ],
   "source": [
    "month_counts = df.groupby('Month_Name').aggregate(sum)\n",
    "month_counts = month_counts.reindex(['Jan', 'Feb', 'Mar', 'Apr', 'May', 'Jun', 'Jul', 'Aug', 'Sep', 'Oct', 'Nov', 'Dec'])\n",
    "month_counts.drop([\"Day\", \"Month\"],1, inplace = True)\n",
    "month_counts"
   ]
  },
  {
   "cell_type": "code",
   "execution_count": 41,
   "metadata": {
    "collapsed": false
   },
   "outputs": [
    {
     "data": {
      "text/html": [
       "<div>\n",
       "<table border=\"1\" class=\"dataframe\">\n",
       "  <thead>\n",
       "    <tr style=\"text-align: right;\">\n",
       "      <th></th>\n",
       "      <th>A</th>\n",
       "      <th>B</th>\n",
       "      <th>C</th>\n",
       "      <th>D</th>\n",
       "      <th>E</th>\n",
       "      <th>F</th>\n",
       "      <th>G</th>\n",
       "      <th>H</th>\n",
       "      <th>I</th>\n",
       "    </tr>\n",
       "    <tr>\n",
       "      <th>Month_Name</th>\n",
       "      <th></th>\n",
       "      <th></th>\n",
       "      <th></th>\n",
       "      <th></th>\n",
       "      <th></th>\n",
       "      <th></th>\n",
       "      <th></th>\n",
       "      <th></th>\n",
       "      <th></th>\n",
       "    </tr>\n",
       "  </thead>\n",
       "  <tbody>\n",
       "    <tr>\n",
       "      <th>Jul</th>\n",
       "      <td>150703</td>\n",
       "      <td>162530</td>\n",
       "      <td>182644</td>\n",
       "      <td>101969</td>\n",
       "      <td>NaN</td>\n",
       "      <td>88010</td>\n",
       "      <td>80033</td>\n",
       "      <td>59657</td>\n",
       "      <td>81238.0</td>\n",
       "    </tr>\n",
       "  </tbody>\n",
       "</table>\n",
       "</div>"
      ],
      "text/plain": [
       "                 A       B       C       D   E      F      G      H        I\n",
       "Month_Name                                                                  \n",
       "Jul         150703  162530  182644  101969 NaN  88010  80033  59657  81238.0"
      ]
     },
     "execution_count": 41,
     "metadata": {},
     "output_type": "execute_result"
    }
   ],
   "source": [
    "month_counts[month_counts.D == max(month_counts.D)]"
   ]
  },
  {
   "cell_type": "code",
   "execution_count": 42,
   "metadata": {
    "collapsed": false
   },
   "outputs": [
    {
     "data": {
      "text/plain": [
       "<matplotlib.axes._subplots.AxesSubplot at 0x29ccaa42048>"
      ]
     },
     "execution_count": 42,
     "metadata": {},
     "output_type": "execute_result"
    },
    {
     "data": {
      "image/png": "[encoded data removed]",
      "text/plain": [
       "<matplotlib.figure.Figure at 0x29ccaa42860>"
      ]
     },
     "metadata": {},
     "output_type": "display_data"
    }
   ],
   "source": [
    "month_counts.D.plot(kind = \"bar\")"
   ]
  },
  {
   "cell_type": "markdown",
   "metadata": {},
   "source": [
    "Answer:  July"
   ]
  }
 ],
 "metadata": {
  "anaconda-cloud": {},
  "kernelspec": {
   "display_name": "Python [Root]",
   "language": "python",
   "name": "Python [Root]"
  },
  "language_info": {
   "codemirror_mode": {
    "name": "ipython",
    "version": 3
   },
   "file_extension": ".py",
   "mimetype": "text/x-python",
   "name": "python",
   "nbconvert_exporter": "python",
   "pygments_lexer": "ipython3",
   "version": "3.5.2"
  }
 },
 "nbformat": 4,
 "nbformat_minor": 2
}
